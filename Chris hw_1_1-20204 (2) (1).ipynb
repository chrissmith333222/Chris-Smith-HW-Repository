{
 "cells": [
  {
   "cell_type": "markdown",
   "metadata": {},
   "source": [
    "## Homework 1"
   ]
  },
  {
   "cell_type": "code",
   "execution_count": null,
   "metadata": {},
   "outputs": [],
   "source": [
    "1. What is a markdown cell in jupyter notebook and how do I change a cell from a markdown cell to a code cell? Use a markdown cell type for this answer."
   ]
  },
  {
   "cell_type": "markdown",
   "metadata": {},
   "source": [
    "A markdown cell is a cell that allows for text to pupulate within code without disrupting the actual code"
   ]
  },
  {
   "cell_type": "markdown",
   "metadata": {},
   "source": [
    "2. In Python, what is the difference between =(single equal) and == (double equal)? Please give an example of each."
   ]
  },
  {
   "cell_type": "code",
   "execution_count": null,
   "metadata": {},
   "outputs": [],
   "source": [
    "Your answer here:"
   ]
  },
  {
   "cell_type": "markdown",
   "metadata": {},
   "source": [
    "3. If I am commenting on my code in a cell, what are the two ways to do this in Python?"
   ]
  },
  {
   "cell_type": "code",
   "execution_count": 3,
   "metadata": {},
   "outputs": [
    {
     "data": {
      "text/plain": [
       "'or comment like this'"
      ]
     },
     "execution_count": 3,
     "metadata": {},
     "output_type": "execute_result"
    }
   ],
   "source": [
    "#comment like this\n",
    "\n",
    "\"\"\"or comment like this\"\"\""
   ]
  },
  {
   "cell_type": "markdown",
   "metadata": {},
   "source": [
    "4. Assign your name, your Yale program, and your year of graduation equal to variables of your choosing. Then write a print statement using an \"f string\" that says \"Hello, my name is (name). I am in Yale's (program) and I hope to graduate in (year).\""
   ]
  },
  {
   "cell_type": "code",
   "execution_count": 15,
   "metadata": {},
   "outputs": [
    {
     "name": "stdout",
     "output_type": "stream",
     "text": [
      "Hello, my name is Chris. I am in Yale's MPP and I hope to graduate in 2026.\n"
     ]
    }
   ],
   "source": [
    "m=\"MPP\"\n",
    "n=\"Chris\"\n",
    "g=\"2026\"\n",
    "print(\"Hello, my name is \" + n + \". I am in Yale's \" + m + \" and I hope to graduate in 2026.\") "
   ]
  },
  {
   "cell_type": "markdown",
   "metadata": {},
   "source": [
    "5. Write the mathematical operators for the following using a markdown cell type and give a code example of each:\n",
    "\n",
    "For example: plus: + , 3 + 4\n",
    "\n",
    "minus: -, 3 - 4\n",
    "\n",
    "multiply: *, 3 * 4\n",
    "\n",
    "divide: /, 3 / 4\n",
    "\n",
    "find the remainder of two numbers divided:???????\n",
    "\n",
    "square: (as in 3 squared is 9): ^2, 3 ^ 2\n",
    "\n",
    "cube: (as in 2 cubed is 8): ^3, 3 ^ 3\n",
    "\n",
    "greater than: >, 4 > 3\n",
    "\n",
    "greater than or equal to: >= , 4 >= 3\n",
    "\n",
    "less than: < , 3 < 4\n",
    "\n",
    "less than or equal to: <= , 3 <= 4"
   ]
  },
  {
   "cell_type": "markdown",
   "metadata": {},
   "source": [
    "6. What is the built-in Python function to determine the type of an object? Give four examples of using this function on four different object types."
   ]
  },
  {
   "cell_type": "code",
   "execution_count": 37,
   "metadata": {},
   "outputs": [
    {
     "data": {
      "text/plain": [
       "str"
      ]
     },
     "execution_count": 37,
     "metadata": {},
     "output_type": "execute_result"
    }
   ],
   "source": [
    "x=\"hello\" \n",
    "y=4\n",
    "type(x)\n"
   ]
  },
  {
   "cell_type": "code",
   "execution_count": 35,
   "metadata": {},
   "outputs": [
    {
     "data": {
      "text/plain": [
       "int"
      ]
     },
     "execution_count": 35,
     "metadata": {},
     "output_type": "execute_result"
    }
   ],
   "source": [
    "y=4\n",
    "type(y)"
   ]
  },
  {
   "cell_type": "code",
   "execution_count": 39,
   "metadata": {},
   "outputs": [
    {
     "data": {
      "text/plain": [
       "str"
      ]
     },
     "execution_count": 39,
     "metadata": {},
     "output_type": "execute_result"
    }
   ],
   "source": [
    "z=\"x+y\"\n",
    "type(z)"
   ]
  },
  {
   "cell_type": "markdown",
   "metadata": {},
   "source": [
    "7. Use the \"replace\" method in python so that the following occurs:\n",
    "\n",
    "greeting = \"Hello there students!\"\n",
    "becomes\n",
    "print(greeting)\n",
    "output: \"Hello there Pythonistas!\""
   ]
  },
  {
   "cell_type": "code",
   "execution_count": 41,
   "metadata": {},
   "outputs": [
    {
     "name": "stdout",
     "output_type": "stream",
     "text": [
      "Hello there Pythonistas!\n"
     ]
    }
   ],
   "source": [
    "text = \"Hello there students!\"\n",
    "new_text = text.replace(\"students\" , \"Pythonistas\")\n",
    "print(new_text)"
   ]
  },
  {
   "cell_type": "markdown",
   "metadata": {},
   "source": [
    "8.In the following code:\n",
    "agreement = \"Paris Agreement\" \n",
    "agreement.replace(\"Paris\", \"Moon\") \n",
    "print(agreement)\n",
    "\n",
    "The output is \"Paris Agreement\", not \"Moon Agreement\"\n",
    "\n",
    "Please explain why that is the case. \n"
   ]
  },
  {
   "cell_type": "markdown",
   "metadata": {},
   "source": [
    "Your answer here: in the code, you are printing the original line of code, not the replaced code"
   ]
  },
  {
   "cell_type": "markdown",
   "metadata": {},
   "source": [
    "9. Now fix the code using the replace method so that:\n",
    "   agreement = \"Paris Agreement\"\n",
    "   when you write:\n",
    "   print(agreement)\n",
    "   output is \"Moon Agreement\""
   ]
  },
  {
   "cell_type": "markdown",
   "metadata": {},
   "source": [
    "Your answer here: \n",
    "agreement = \"Paris Agreement\" \n",
    "new_agreement = agreement.replace(\"Paris\", \"Moon\") \n",
    "print(new_agreement)"
   ]
  },
  {
   "cell_type": "code",
   "execution_count": 44,
   "metadata": {},
   "outputs": [
    {
     "ename": "SyntaxError",
     "evalue": "invalid syntax (240619953.py, line 1)",
     "output_type": "error",
     "traceback": [
      "\u001b[1;36m  Cell \u001b[1;32mIn[44], line 1\u001b[1;36m\u001b[0m\n\u001b[1;33m    10. Please explain why the statement returns \"False\" and write code that fixes the error:\u001b[0m\n\u001b[1;37m        ^\u001b[0m\n\u001b[1;31mSyntaxError\u001b[0m\u001b[1;31m:\u001b[0m invalid syntax\n"
     ]
    }
   ],
   "source": [
    "10. Please explain why the statement returns \"False\" and write code that fixes the error:\n",
    "\n",
    ".3 + .3 + .3 == .9"
   ]
  },
  {
   "cell_type": "markdown",
   "metadata": {},
   "source": [
    "ChatGPT says that this is how to correct rounding inaccuracies in Python:"
   ]
  },
  {
   "cell_type": "code",
   "execution_count": 52,
   "metadata": {},
   "outputs": [
    {
     "name": "stdout",
     "output_type": "stream",
     "text": [
      "True\n"
     ]
    }
   ],
   "source": [
    "tolerance = 1e-10\n",
    "print(round(0.3 + 0.3 + 0.3 , 10) == round (0.9 , 10))"
   ]
  },
  {
   "cell_type": "markdown",
   "metadata": {},
   "source": [
    "11. I want to make a tip calculator. Step one:\n",
    "Please use the input method to accept an input from a user prompting them with \"Please enter a price of the meal\" and save\n",
    " it to the variable \"price\""
   ]
  },
  {
   "cell_type": "code",
   "execution_count": 56,
   "metadata": {},
   "outputs": [
    {
     "name": "stdin",
     "output_type": "stream",
     "text": [
      "Please enter the price of the meal:  10\n"
     ]
    },
    {
     "name": "stdout",
     "output_type": "stream",
     "text": [
      "A 22% tip would be:  2.2\n",
      "The total including tip would be:  12.2\n"
     ]
    }
   ],
   "source": [
    "price = float(input(\"Please enter the price of the meal: \" ))\n",
    "tip = price * 0.22\n",
    "\n",
    "total = price + tip\n",
    "\n",
    "print(\"A 22% tip would be: \", tip)\n",
    "\n",
    "print(\"The total including tip would be: \", total)\n"
   ]
  },
  {
   "cell_type": "code",
   "execution_count": 4,
   "metadata": {},
   "outputs": [
    {
     "ename": "ValueError",
     "evalue": "could not convert string to float: 'Please enter the price of the meal: '",
     "output_type": "error",
     "traceback": [
      "\u001b[0;31m---------------------------------------------------------------------------\u001b[0m",
      "\u001b[0;31mValueError\u001b[0m                                Traceback (most recent call last)",
      "Cell \u001b[0;32mIn[4], line 1\u001b[0m\n\u001b[0;32m----> 1\u001b[0m price \u001b[38;5;241m=\u001b[39m \u001b[38;5;28minput\u001b[39m(\u001b[38;5;28;43mfloat\u001b[39;49m\u001b[43m(\u001b[49m\u001b[43m(\u001b[49m\u001b[38;5;124;43m\"\u001b[39;49m\u001b[38;5;124;43mPlease enter the price of the meal: \u001b[39;49m\u001b[38;5;124;43m\"\u001b[39;49m\u001b[43m \u001b[49m\u001b[43m)\u001b[49m\u001b[43m)\u001b[49m)\n\u001b[1;32m      3\u001b[0m tip \u001b[38;5;241m=\u001b[39m price \u001b[38;5;241m*\u001b[39m \u001b[38;5;241m0.16\u001b[39m\n\u001b[1;32m      5\u001b[0m total \u001b[38;5;241m=\u001b[39m price \u001b[38;5;241m+\u001b[39m tip\n",
      "\u001b[0;31mValueError\u001b[0m: could not convert string to float: 'Please enter the price of the meal: '"
     ]
    }
   ],
   "source": [
    "12. Here is a script I wrote for a tip calculator:\n",
    "                        \n",
    "price = input(\"Please enter the price of the meal: \" )\n",
    "\n",
    "tip = price * 0.22\n",
    "\n",
    "total = price + tip\n",
    "\n",
    "print(\"A 16% tip would be: \", tip)\n",
    "\n",
    "print(\"The total including tip would be: \", total)\n",
    "\n",
    "The problem is it throws an error! Can you look at this code and see why it is throwing an error without running it? "
   ]
  },
  {
   "cell_type": "markdown",
   "metadata": {},
   "source": [
    "input returns str and not int by default"
   ]
  },
  {
   "cell_type": "markdown",
   "metadata": {},
   "source": [
    "13. Please fix the above code and run it:"
   ]
  },
  {
   "cell_type": "code",
   "execution_count": null,
   "metadata": {},
   "outputs": [],
   "source": [
    "sorry, I used your code initially"
   ]
  },
  {
   "cell_type": "markdown",
   "metadata": {},
   "source": [
    "14. Write a script that takes a user inputted string and checks whether if they are the following\n",
    "\n",
    "if it is all alphabets\n",
    "if it is numeric\n",
    "if it is all upper case\n",
    "if it is all lower case"
   ]
  },
  {
   "cell_type": "code",
   "execution_count": 76,
   "metadata": {},
   "outputs": [
    {
     "name": "stdin",
     "output_type": "stream",
     "text": [
      "Please enter a string:  the\n"
     ]
    },
    {
     "name": "stdout",
     "output_type": "stream",
     "text": [
      "The text is lower case\n",
      "The text is lower case\n"
     ]
    },
    {
     "name": "stdin",
     "output_type": "stream",
     "text": [
      "Please enter a string:  34\n"
     ]
    },
    {
     "name": "stdout",
     "output_type": "stream",
     "text": [
      "The text is numeric\n"
     ]
    }
   ],
   "source": [
    "text_input = input(\"Please enter a string: \") \n",
    "\n",
    "if text_input.isupper():\n",
    "    print(\"The text is upper UPPER CASE\")\n",
    "else:\n",
    "    print(\"The text is lower case\")\n",
    "\n",
    "if text_input.islower():\n",
    "    print(\"The text is lower case\")\n",
    "else:\n",
    "    print(\"The text is UPPER case\")\n",
    "    \n",
    "text_input = input(\"Please enter a string: \") \n",
    "\n",
    "if text_input.isdigit():\n",
    "    print(\"The text is numeric\")\n",
    "else:\n",
    "    print(\"The text is not numeric\")"
   ]
  },
  {
   "cell_type": "code",
   "execution_count": null,
   "metadata": {},
   "outputs": [],
   "source": [
    "15. Write a script that takes a user inputted target_string of your chosing and prints it out in the following three formats.\n",
    "\n",
    "All letters capitalized - capitalize( )\n",
    "All letters lowercase - lower( )\n",
    "All vowels lowercase and all consonants uppercase "
   ]
  },
  {
   "cell_type": "code",
   "execution_count": 86,
   "metadata": {},
   "outputs": [
    {
     "name": "stdin",
     "output_type": "stream",
     "text": [
      "Input string here  hello\n"
     ]
    },
    {
     "name": "stdout",
     "output_type": "stream",
     "text": [
      "HELLO\n"
     ]
    }
   ],
   "source": [
    "greeting= input(\"Input string here \")\n",
    "print(greeting.upper())"
   ]
  },
  {
   "cell_type": "code",
   "execution_count": 88,
   "metadata": {},
   "outputs": [
    {
     "name": "stdin",
     "output_type": "stream",
     "text": [
      "Input string here  HI\n"
     ]
    },
    {
     "name": "stdout",
     "output_type": "stream",
     "text": [
      "hi\n"
     ]
    }
   ],
   "source": [
    "greeting= input(\"Input string here \")\n",
    "print(greeting.lower())"
   ]
  },
  {
   "cell_type": "code",
   "execution_count": 92,
   "metadata": {},
   "outputs": [
    {
     "name": "stdin",
     "output_type": "stream",
     "text": [
      "Input string here  hello\n"
     ]
    },
    {
     "ename": "NameError",
     "evalue": "name 'aeiouAEIOU' is not defined",
     "output_type": "error",
     "traceback": [
      "\u001b[1;31m---------------------------------------------------------------------------\u001b[0m",
      "\u001b[1;31mNameError\u001b[0m                                 Traceback (most recent call last)",
      "Cell \u001b[1;32mIn[92], line 2\u001b[0m\n\u001b[0;32m      1\u001b[0m greeting\u001b[38;5;241m=\u001b[39m \u001b[38;5;28minput\u001b[39m(\u001b[38;5;124m\"\u001b[39m\u001b[38;5;124mInput string here \u001b[39m\u001b[38;5;124m\"\u001b[39m)\n\u001b[1;32m----> 2\u001b[0m vowel\u001b[38;5;241m=\u001b[39maeiouAEIOU\n\u001b[0;32m      3\u001b[0m \u001b[38;5;28;01mfor\u001b[39;00m char \u001b[38;5;129;01min\u001b[39;00m greeting:\n\u001b[0;32m      4\u001b[0m     \u001b[38;5;28;01mif\u001b[39;00m char \u001b[38;5;129;01min\u001b[39;00m vowels:\n",
      "\u001b[1;31mNameError\u001b[0m: name 'aeiouAEIOU' is not defined"
     ]
    }
   ],
   "source": [
    "greeting= input(\"Input string here \")\n",
    "vowel=aeiouAEIOU\n",
    "for char in greeting:\n",
    "    if char in vowels:\n",
    "        result += char.lower()\n",
    "    elif char.isalpha():\n",
    "        result += char.upper()\n",
    "    else:\n",
    "        result += char\n",
    "#tried this in chatgpt and had issues"
   ]
  },
  {
   "cell_type": "markdown",
   "metadata": {},
   "source": [
    "16. Assuming a package is not part of the Anaconda build of Python used, how would I:\n",
    "a. install a package from my terminal?\n",
    "b. install a package from my Jupyter notebook ?\n",
    "c. import a package ? \n",
    "d. what happens when if I write \"import this\" but don't name a package? (run it below)"
   ]
  },
  {
   "cell_type": "code",
   "execution_count": null,
   "metadata": {},
   "outputs": [],
   "source": [
    "#Your code here:\n",
    "#a.\n",
    "#b.\n",
    "#c. \n",
    "#d.\n",
    "import this\n",
    "\n",
    "#I need a refresher on terminal work"
   ]
  },
  {
   "cell_type": "code",
   "execution_count": 5,
   "metadata": {},
   "outputs": [
    {
     "ename": "SyntaxError",
     "evalue": "invalid decimal literal (985703228.py, line 1)",
     "output_type": "error",
     "traceback": [
      "\u001b[0;36m  Cell \u001b[0;32mIn[5], line 1\u001b[0;36m\u001b[0m\n\u001b[0;31m    13.statement= 'It's truly one of my favorite quotes: \"Success depends on intuition, on seeing what afterwards proves to be true but cannot be established at the moment\"\u001b[0m\n\u001b[0m      ^\u001b[0m\n\u001b[0;31mSyntaxError\u001b[0m\u001b[0;31m:\u001b[0m invalid decimal literal\n"
     ]
    }
   ],
   "source": [
    "17.statement= 'It's truly one of my favorite quotes: \"Success depends on intuition, on seeing what afterwards proves to be true but cannot be established at the moment\"\n",
    "#To whom is the previous quote atributed?"
   ]
  },
  {
   "cell_type": "markdown",
   "metadata": {},
   "source": [
    "Your answer here: Joseph A. Schumpeter"
   ]
  },
  {
   "cell_type": "code",
   "execution_count": null,
   "metadata": {},
   "outputs": [],
   "source": [
    "18. Copy the code above to the cell below. Run it. Why is it throwing an error? Please fix it."
   ]
  },
  {
   "cell_type": "code",
   "execution_count": 98,
   "metadata": {},
   "outputs": [
    {
     "name": "stdout",
     "output_type": "stream",
     "text": [
      "It is truly one of my favorite quotes: \"Success depends on intuition, on seeing what afterwards proves to be true but cannot be established at the moment\"\n"
     ]
    }
   ],
   "source": [
    "#Your answer here: Do not use contractions in python...\n",
    "statement= 'It is truly one of my favorite quotes: \"Success depends on intuition, on seeing what afterwards proves to be true but cannot be established at the moment\"'\n",
    "print(statement)"
   ]
  },
  {
   "cell_type": "markdown",
   "metadata": {},
   "source": [
    "19. Write code, using the strip() method  to remove the white spaces from the beginning and the end of the following and print below:\n",
    "\n"
   ]
  },
  {
   "cell_type": "code",
   "execution_count": 15,
   "metadata": {},
   "outputs": [
    {
     "name": "stdout",
     "output_type": "stream",
     "text": [
      "   hi students. what's going on?!       \n"
     ]
    }
   ],
   "source": [
    "greeting = \"   Hi students. What's going on?!       \"\n",
    "# You answer here: \n",
    "#used chatGPT to explain thsi \n",
    "lower_greeting = greeting.lower()\n",
    "print(greeting.lower())"
   ]
  },
  {
   "cell_type": "code",
   "execution_count": null,
   "metadata": {},
   "outputs": [],
   "source": [
    "20. (2pt) How do you convert a string to all lowercase? Give an example."
   ]
  },
  {
   "cell_type": "code",
   "execution_count": 17,
   "metadata": {},
   "outputs": [
    {
     "name": "stdout",
     "output_type": "stream",
     "text": [
      "hello\n"
     ]
    }
   ],
   "source": [
    "# Your answer here: use the \"lower\" function\n",
    "string= \"HELLO\"\n",
    "print(string.lower())\n"
   ]
  },
  {
   "cell_type": "markdown",
   "metadata": {},
   "source": [
    "21. (2pt)How do you convert a string to a list in python? Give an example."
   ]
  },
  {
   "cell_type": "code",
   "execution_count": 19,
   "metadata": {},
   "outputs": [
    {
     "data": {
      "text/plain": [
       "['H', 'E', 'L', 'L', 'O']"
      ]
     },
     "execution_count": 19,
     "metadata": {},
     "output_type": "execute_result"
    }
   ],
   "source": [
    "# Your answer here: You can use the list() function \n",
    "#used chatGPT\n",
    "string= \"HELLO\"\n",
    "list(string)\n"
   ]
  },
  {
   "cell_type": "markdown",
   "metadata": {},
   "source": [
    "22. (2pt) How do you convert a string to a tuple in python? Give an example."
   ]
  },
  {
   "cell_type": "code",
   "execution_count": 23,
   "metadata": {},
   "outputs": [
    {
     "data": {
      "text/plain": [
       "('H', 'E', 'L', 'L', 'O')"
      ]
     },
     "execution_count": 23,
     "metadata": {},
     "output_type": "execute_result"
    }
   ],
   "source": [
    "# Your answer here: use the tuple() function\n",
    "#I used chatGPT\n",
    "greeting= \"HELLO\"\n",
    "tuple(greeting)"
   ]
  },
  {
   "cell_type": "markdown",
   "metadata": {},
   "source": [
    "23. (2pt) How do you convert a string to an int in python? Give an example."
   ]
  },
  {
   "cell_type": "code",
   "execution_count": 25,
   "metadata": {},
   "outputs": [
    {
     "data": {
      "text/plain": [
       "12345"
      ]
     },
     "execution_count": 25,
     "metadata": {},
     "output_type": "execute_result"
    }
   ],
   "source": [
    "# Your answer here: use the int() funtion\n",
    "#I used chatGPT\n",
    "number=12345\n",
    "int(number)"
   ]
  },
  {
   "cell_type": "markdown",
   "metadata": {},
   "source": [
    "24. (2pt) How do you convert a string to a float in python? Give an example."
   ]
  },
  {
   "cell_type": "code",
   "execution_count": 31,
   "metadata": {},
   "outputs": [
    {
     "name": "stdout",
     "output_type": "stream",
     "text": [
      "123.45\n"
     ]
    }
   ],
   "source": [
    "# Your answer here: Use the float() function\n",
    "number=123.45\n",
    "num_float=float(number)\n",
    "print(num_float)"
   ]
  },
  {
   "cell_type": "markdown",
   "metadata": {},
   "source": [
    "25. (2pt) What are Python's dictionaries? Give an example of a great use for dictionaries.Give an example."
   ]
  },
  {
   "cell_type": "code",
   "execution_count": 7,
   "metadata": {},
   "outputs": [],
   "source": [
    "# Your answer here: A dictinary is a tool to look up data by name in python\n",
    "#I used chatGPT\n",
    "phonebook = {\n",
    "    \"John\": \"123-456-7890\",\n",
    "    \"Alice\": \"555-678-1234\",\n",
    "    \"Bob\": \"987-654-3210\"\n",
    "}\n",
    "# Looking up a phone number by a person's name\n",
    "print(phonebook[\"Alice\"])  # Output: 555-678-1234\n"
   ]
  },
  {
   "cell_type": "markdown",
   "metadata": {},
   "source": [
    "26. (2pt) Create a dictionary with keys and values. Give an example."
   ]
  },
  {
   "cell_type": "code",
   "execution_count": 1,
   "metadata": {},
   "outputs": [
    {
     "name": "stdout",
     "output_type": "stream",
     "text": [
      "555-678-1234\n"
     ]
    }
   ],
   "source": [
    "phonebook = {\n",
    "    \"John\": \"123-456-7890\",\n",
    "    \"Alice\": \"555-678-1234\",\n",
    "    \"Bob\": \"987-654-3210\"\n",
    "}\n",
    "print(phonebook[\"Alice\"])  # Output: 555-678-1234\n",
    "#I used chatGPT"
   ]
  },
  {
   "cell_type": "markdown",
   "metadata": {},
   "source": [
    "27. (2pt) How do you get all the values from the dictionary? Give an example."
   ]
  },
  {
   "cell_type": "code",
   "execution_count": 5,
   "metadata": {},
   "outputs": [
    {
     "name": "stdout",
     "output_type": "stream",
     "text": [
      "555-678-1234\n"
     ]
    }
   ],
   "source": [
    "#Use a print() function. \n",
    "phonebook = {\n",
    "    \"John\": \"123-456-7890\",\n",
    "    \"Alice\": \"555-678-1234\",\n",
    "    \"Bob\": \"987-654-3210\"\n",
    "}\n",
    "print(phonebook[\"Alice\"])"
   ]
  },
  {
   "cell_type": "markdown",
   "metadata": {},
   "source": [
    "28. (2pt) How do you get all the keys from the dictionary? Give an example."
   ]
  },
  {
   "cell_type": "code",
   "execution_count": 17,
   "metadata": {},
   "outputs": [
    {
     "name": "stdout",
     "output_type": "stream",
     "text": [
      "555-678-1234\n",
      "987-654-3210\n",
      "123-456-7890\n"
     ]
    }
   ],
   "source": [
    "phonebook = {\n",
    "    \"John\": \"123-456-7890\",\n",
    "    \"Alice\": \"555-678-1234\",\n",
    "    \"Bob\": \"987-654-3210\"\n",
    "}\n",
    "print(phonebook[\"Alice\"])\n",
    "print(phonebook[\"Bob\"])\n",
    "print(phonebook[\"John\"])\n",
    "#used ChatGPT"
   ]
  },
  {
   "cell_type": "markdown",
   "metadata": {},
   "source": [
    "29. (2pt) How do you capitalizes first letter of string? Give an example."
   ]
  },
  {
   "cell_type": "code",
   "execution_count": 21,
   "metadata": {},
   "outputs": [
    {
     "name": "stdout",
     "output_type": "stream",
     "text": [
      "Hello world\n"
     ]
    }
   ],
   "source": [
    "# Your answer here: Use the capitalize() function\n",
    "#Used chatGPT\n",
    "text = \"hello world\"\n",
    "capitalized_text = text.capitalize()\n",
    "print(capitalized_text) "
   ]
  },
  {
   "cell_type": "markdown",
   "metadata": {},
   "source": [
    "30. (2pt) How do you check in a string that all characters are digits? Give an example.\n"
   ]
  },
  {
   "cell_type": "code",
   "execution_count": 23,
   "metadata": {},
   "outputs": [
    {
     "name": "stdout",
     "output_type": "stream",
     "text": [
      "True\n",
      "False\n"
     ]
    }
   ],
   "source": [
    "# Your answer here: use the .isdigit function\n",
    "#used ChatGPT\n",
    "\n",
    "text1 = \"12345\"\n",
    "text2 = \"123abc\"\n",
    "\n",
    "print(text1.isdigit())  # Output: True\n",
    "print(text2.isdigit())  # Output: False"
   ]
  },
  {
   "cell_type": "markdown",
   "metadata": {},
   "source": [
    "31. (2pt) How do you check in a string that all characters are alphanumeric? Give an example."
   ]
  },
  {
   "cell_type": "code",
   "execution_count": 25,
   "metadata": {},
   "outputs": [
    {
     "name": "stdout",
     "output_type": "stream",
     "text": [
      "True\n",
      "False\n",
      "True\n"
     ]
    }
   ],
   "source": [
    "# Your answer here: USe the string.isalnum() function\n",
    "# Used chatGPT\n",
    "text1 = \"Hello123\"\n",
    "text2 = \"Hello 123\"\n",
    "text3 = \"12345\"\n",
    "\n",
    "print(text1.isalnum())  # Output: True\n",
    "print(text2.isalnum())  # Output: False  (contains a space)\n",
    "print(text3.isalnum())  # Output: True"
   ]
  },
  {
   "cell_type": "markdown",
   "metadata": {},
   "source": [
    "32. (2pt) How do you check in a string that all characters are in lowercase? Give an example."
   ]
  },
  {
   "cell_type": "code",
   "execution_count": 29,
   "metadata": {},
   "outputs": [
    {
     "name": "stdout",
     "output_type": "stream",
     "text": [
      "False\n",
      "False\n",
      "False\n"
     ]
    }
   ],
   "source": [
    "# Your answer here: Use the .islower() function\n",
    "#used chatGPT\n",
    "text1 = \"Hello123\"\n",
    "text2 = \"Hello 123\"\n",
    "text3 = \"12345\"\n",
    "\n",
    "print(text1.islower())  \n",
    "print(text2.islower())  \n",
    "print(text3.islower()) "
   ]
  },
  {
   "cell_type": "markdown",
   "metadata": {},
   "source": [
    "33. (2pt) How do you check in a string that all characters are not numbers. Give an example."
   ]
  },
  {
   "cell_type": "code",
   "execution_count": 31,
   "metadata": {},
   "outputs": [
    {
     "name": "stdout",
     "output_type": "stream",
     "text": [
      "False\n",
      "True\n",
      "True\n"
     ]
    }
   ],
   "source": [
    "# Your answer here: use the isdigit() function\n",
    "#used chatGPT\n",
    "text1 = \"12345\"\n",
    "text2 = \"123abc\"\n",
    "text3 = \"abc\"\n",
    "\n",
    "print(not text1.isdigit())  # Output: False (all characters are numbers)\n",
    "print(not text2.isdigit())  # Output: True  (contains non-numeric characters)\n",
    "print(not text3.isdigit())  # Output: True  (contains only non-numeric characters)"
   ]
  },
  {
   "cell_type": "markdown",
   "metadata": {},
   "source": [
    "33. (2pt) How do you get the length of the string? Give an example."
   ]
  },
  {
   "cell_type": "code",
   "execution_count": 33,
   "metadata": {},
   "outputs": [
    {
     "name": "stdout",
     "output_type": "stream",
     "text": [
      "13\n"
     ]
    }
   ],
   "source": [
    "# Your answer here: len() function\n",
    "#used chatGPT\n",
    "text = \"Hello, World!\"\n",
    "length = len(text)\n",
    "print(length) "
   ]
  },
  {
   "cell_type": "markdown",
   "metadata": {},
   "source": [
    "34. (2pt) How do you convert a string to all lowercase? Give an example."
   ]
  },
  {
   "cell_type": "code",
   "execution_count": 41,
   "metadata": {},
   "outputs": [
    {
     "name": "stdout",
     "output_type": "stream",
     "text": [
      "hello\n"
     ]
    }
   ],
   "source": [
    "# Your answer here: lower() function\n",
    "greeting= \"HELLO\"\n",
    "greeting_lower = greeting.lower()\n",
    "print(greeting_lower)"
   ]
  },
  {
   "cell_type": "markdown",
   "metadata": {},
   "source": [
    "35. (2pt) How do you remove all leading whitespace in string? Give an example."
   ]
  },
  {
   "cell_type": "code",
   "execution_count": 45,
   "metadata": {},
   "outputs": [
    {
     "name": "stdout",
     "output_type": "stream",
     "text": [
      "'Hello, World!'\n"
     ]
    }
   ],
   "source": [
    "# Your answer here: use the lstrip() function\n",
    "#used chatGPT\n",
    "text = \"   Hello, World!\"\n",
    "no_leading_whitespace = text.lstrip()\n",
    "print(f\"'{no_leading_whitespace}'\") \n"
   ]
  },
  {
   "cell_type": "markdown",
   "metadata": {},
   "source": [
    "36. (2pt) What is the difference between del() and remove() methods of list? Give an example."
   ]
  },
  {
   "cell_type": "code",
   "execution_count": 49,
   "metadata": {},
   "outputs": [
    {
     "name": "stdout",
     "output_type": "stream",
     "text": [
      "[1, 4, 5]\n",
      "[1, 2, 4, 5]\n"
     ]
    }
   ],
   "source": [
    "# Your answer here: del removes an element by index or deletes an entire slice, while remove() removes the first occurrence of a specified value.\n",
    "#used chatGPT\n",
    "my_list = [1, 2, 3, 4, 5]\n",
    "del my_list[1:3]  # Deletes elements at index 1 and 2\n",
    "print(my_list)\n",
    "\n",
    "my_list = [1, 2, 3, 4, 5]\n",
    "my_list.remove(3)  # Removes the first occurrence of the value 3\n",
    "print(my_list) "
   ]
  },
  {
   "cell_type": "markdown",
   "metadata": {},
   "source": [
    "37. (2pt) How do you get the index of an object in a list? Give an example."
   ]
  },
  {
   "cell_type": "code",
   "execution_count": 53,
   "metadata": {},
   "outputs": [
    {
     "name": "stdout",
     "output_type": "stream",
     "text": [
      "2\n"
     ]
    }
   ],
   "source": [
    "# Your answer here: use the index() function\n",
    "#used chatGPT\n",
    "my_list = ['apple', 'banana', 'cherry', 'date']\n",
    "index = my_list.index('cherry')\n",
    "print(index) "
   ]
  },
  {
   "cell_type": "markdown",
   "metadata": {},
   "source": [
    "38. (2pt) How do you insert an object at given index in a list? Give an example."
   ]
  },
  {
   "cell_type": "code",
   "execution_count": 57,
   "metadata": {},
   "outputs": [
    {
     "name": "stdout",
     "output_type": "stream",
     "text": [
      "['apple', 'orange', 'banana', 'cherry']\n"
     ]
    }
   ],
   "source": [
    "# Your answer here: use the insert() function\n",
    "#used chatGPT\n",
    "my_list = ['apple', 'banana', 'cherry']\n",
    "my_list.insert(1, 'orange')\n",
    "print(my_list)"
   ]
  },
  {
   "cell_type": "markdown",
   "metadata": {},
   "source": [
    "39. (2pt) How do you get the length of a list? Give an example."
   ]
  },
  {
   "cell_type": "code",
   "execution_count": 59,
   "metadata": {},
   "outputs": [
    {
     "name": "stdout",
     "output_type": "stream",
     "text": [
      "5\n"
     ]
    }
   ],
   "source": [
    "# Your answer here: use the len() function\n",
    "#used chatGPT\n",
    "my_list = [10, 20, 30, 40, 50]\n",
    "length = len(my_list)\n",
    "print(length)"
   ]
  },
  {
   "cell_type": "markdown",
   "metadata": {},
   "source": [
    "40. (2pt) How do you remove last object from a list?"
   ]
  },
  {
   "cell_type": "code",
   "execution_count": 63,
   "metadata": {},
   "outputs": [
    {
     "name": "stdout",
     "output_type": "stream",
     "text": [
      "5\n",
      "[1, 2, 3, 4]\n"
     ]
    }
   ],
   "source": [
    "# Your answer here: use pop()\n",
    "#used chatGPT\n",
    "my_list = [1, 2, 3, 4, 5]\n",
    "last_item = my_list.pop()\n",
    "print(last_item)  # Output: 5\n",
    "print(my_list)  "
   ]
  },
  {
   "cell_type": "markdown",
   "metadata": {},
   "source": [
    "41. (2pt) How do you reverse a list? Give an example."
   ]
  },
  {
   "cell_type": "code",
   "execution_count": 24,
   "metadata": {},
   "outputs": [],
   "source": [
    "# Your answer here: "
   ]
  },
  {
   "cell_type": "markdown",
   "metadata": {},
   "source": [
    "42. (2pt) How would you slice a list? Give an example."
   ]
  },
  {
   "cell_type": "code",
   "execution_count": 28,
   "metadata": {},
   "outputs": [],
   "source": [
    "# Your answer here: "
   ]
  },
  {
   "cell_type": "markdown",
   "metadata": {},
   "source": [
    "43. (10 pts) Iterate through a list and create a new list with only happy words. A happy is anything above the threshold. Print your happy word list without values (just words)."
   ]
  },
  {
   "cell_type": "code",
   "execution_count": 30,
   "metadata": {},
   "outputs": [],
   "source": [
    "threshold = 0.5\n",
    "feelings = [('blue', 0.1), ('melancholy',0.4), ('fine', 0.5 ), ('okay',0.5), ('overjoyed',1.0), ('blissful',0.9), ('chocolately',0.8)]\n",
    "# your code here:\n"
   ]
  },
  {
   "cell_type": "markdown",
   "metadata": {},
   "source": [
    "44. (5 pts) Take a user input that takes in a user's name, age.\n",
    "Create an f string that prints \"Hello \"name\", how does it feel to be \"age?\"\n",
    "Then create an answer that takes a random choice from your happy_word list, and print \"Gee, it feels \"answer\" to be \"age\". Thanks for asking!\"\n",
    "\n"
   ]
  },
  {
   "cell_type": "code",
   "execution_count": 32,
   "metadata": {
    "scrolled": true
   },
   "outputs": [],
   "source": [
    "# Your code here:"
   ]
  },
  {
   "cell_type": "markdown",
   "metadata": {},
   "source": [
    "45. (5 pts) Convert the following quote to a single string assigned to the variable Brzezinski, without numbers or special characters. Print the output. Make sure you add quotation marks to the beginning and end of the quote.\n"
   ]
  },
  {
   "cell_type": "code",
   "execution_count": 39,
   "metadata": {},
   "outputs": [],
   "source": [
    "quote = [[('Most Americans ^331 are close to total ignorance about the world. They are ignorant. That is an unhealthy condition in a country in which foreign policy has to be endorsed by the people 402 if it is to be pursued. And 404 it makes it much more difficult for any president to pursue an intelligent %%&* policy that does justice to the complexity of the world.')]]\n",
    "\n",
    "# Your code here:"
   ]
  },
  {
   "cell_type": "markdown",
   "metadata": {},
   "source": [
    "46. (1pts) There is a wikipedia package for Python! It makes it super easy to collect and parse entries. Install it and print a summary of the Marquis de Lafayette in French."
   ]
  },
  {
   "cell_type": "code",
   "execution_count": 35,
   "metadata": {},
   "outputs": [],
   "source": [
    "# Your code here:"
   ]
  },
  {
   "cell_type": "markdown",
   "metadata": {},
   "source": [
    "47. (4pts) Write a function that takes two arguments, name and hometown  and prints a statement that says, \"Well hello 'name', you must be from 'hometown' as an f string when called."
   ]
  },
  {
   "cell_type": "code",
   "execution_count": 36,
   "metadata": {},
   "outputs": [],
   "source": [
    "#Your code here:"
   ]
  },
  {
   "cell_type": "code",
   "execution_count": null,
   "metadata": {},
   "outputs": [],
   "source": [
    "48. Write a script that takes an age as a user input and prints the following, based on conditions, using if, elif, and else:\n",
    "\n",
    "If the age is 1-18: print \"This individual is a minor. Their brain is still growing.\"\n",
    "If the age is 19-25: print. \"Though the brain may be done growing in size, it does not finish developing and maturing until the mid- to late 20s\"\n",
    "If the age is 26-40: \"Accomplish what you can before your brain rots!\"\n",
    "If the age is 41-100: \"Don't despair! For the first time, researchers have been able to identify superagers MRI images of the brains of superagers with an average age of 67 are remarkably similar to the brain of 25-year-olds.\"m"
   ]
  },
  {
   "cell_type": "code",
   "execution_count": 17,
   "metadata": {},
   "outputs": [
    {
     "name": "stdin",
     "output_type": "stream",
     "text": [
      "Input age:  45\n"
     ]
    },
    {
     "name": "stdout",
     "output_type": "stream",
     "text": [
      "Don't despair! For the first time, researchers have been able to identify superagers MRI images of the brains of superagers with an average age of 67 are remarkably similar to the brain of 25-year-olds.\n"
     ]
    }
   ],
   "source": [
    "#Your code here:\n",
    "#used ChatGPT to debug\n",
    "Age_input = int(input(\"Input age: \"))\n",
    "if  1 <= Age_input <= 18:\n",
    "    print(\"This individual is a minor. Their brain is still growing.\")\n",
    "if  19 <= Age_input <= 25:\n",
    "    print(\"Though the brain may be done growing in size, it does not finish developing and maturing until the mid- to late 20s\")    \n",
    "if  26 <= Age_input <= 40:\n",
    "    print(\"Accomplish what you can before your brain rots!\")  \n",
    "if  41 <= Age_input <= 100:\n",
    "    print( \"Don't despair! For the first time, researchers have been able to identify superagers MRI images of the brains of superagers with an average age of 67 are remarkably similar to the brain of 25-year-olds.\")    "
   ]
  },
  {
   "cell_type": "code",
   "execution_count": 29,
   "metadata": {},
   "outputs": [
    {
     "ename": "SyntaxError",
     "evalue": "invalid decimal literal (349868706.py, line 1)",
     "output_type": "error",
     "traceback": [
      "\u001b[1;36m  Cell \u001b[1;32mIn[29], line 1\u001b[1;36m\u001b[0m\n\u001b[1;33m    49.Write a while loop that counts down from 20 to \"blastoff\":\u001b[0m\n\u001b[1;37m      ^\u001b[0m\n\u001b[1;31mSyntaxError\u001b[0m\u001b[1;31m:\u001b[0m invalid decimal literal\n"
     ]
    }
   ],
   "source": [
    "49.Write a while loop that counts down from 20 to \"blastoff\":\n",
    "#Used ChatGPT\n"
   ]
  },
  {
   "cell_type": "code",
   "execution_count": 31,
   "metadata": {},
   "outputs": [
    {
     "name": "stdout",
     "output_type": "stream",
     "text": [
      "20\n",
      "19\n",
      "18\n",
      "17\n",
      "16\n",
      "15\n",
      "14\n",
      "13\n",
      "12\n",
      "11\n",
      "10\n",
      "9\n",
      "8\n",
      "7\n",
      "6\n",
      "5\n",
      "4\n",
      "3\n",
      "2\n",
      "1\n",
      "Blastoff!\n"
     ]
    }
   ],
   "source": [
    "n = 20\n",
    "\n",
    "while n > 0:\n",
    "        print(n)\n",
    "        n -= 1\n",
    "print(\"Blastoff!\")"
   ]
  },
  {
   "cell_type": "code",
   "execution_count": null,
   "metadata": {},
   "outputs": [],
   "source": [
    "#Your code here:"
   ]
  },
  {
   "cell_type": "code",
   "execution_count": null,
   "metadata": {},
   "outputs": [],
   "source": [
    "50.#Write code, usting the strip method, to remove the unecessary characters, and add a space to print Jackson Python\n",
    "#Used ChatGPT \n",
    "jackson_string = \"grrrrr....ughhhh..JacksonPython@@@!!!!\"\n"
   ]
  },
  {
   "cell_type": "code",
   "execution_count": 37,
   "metadata": {},
   "outputs": [
    {
     "name": "stdout",
     "output_type": "stream",
     "text": [
      "Jackson Python\n"
     ]
    }
   ],
   "source": [
    "jackson_string = \"grrrrr....ughhhh..JacksonPython@@@!!!!\"\n",
    "clean_string=jackson_string.strip(\"grr.u@@@!h\")\n",
    "final_string=clean_string[:7] + \" \" + clean_string[7:]\n",
    "print(final_string)"
   ]
  }
 ],
 "metadata": {
  "kernelspec": {
   "display_name": "Python 3 (ipykernel)",
   "language": "python",
   "name": "python3"
  },
  "language_info": {
   "codemirror_mode": {
    "name": "ipython",
    "version": 3
   },
   "file_extension": ".py",
   "mimetype": "text/x-python",
   "name": "python",
   "nbconvert_exporter": "python",
   "pygments_lexer": "ipython3",
   "version": "3.12.4"
  }
 },
 "nbformat": 4,
 "nbformat_minor": 4
}
