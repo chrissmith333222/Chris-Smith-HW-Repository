{
 "cells": [
  {
   "cell_type": "markdown",
   "id": "4c77a658-43d6-45e6-ab2a-019fcd7b2f66",
   "metadata": {},
   "source": [
    "# Jackson Python Sequences:\n",
    "\n",
    "In Python, sequence is a generic term for an ordered collection of elements. Sequences provide powerful ways to store, access, and manipulate ordered collections of data. We actually have a choice of sequences: lists, tuples, arrays. As a matter of fact a string is a \"sequence\" in that it is an ordered sequence of characters. In sequences, ordered collection of elements, each element is assigned an index based on its position in the sequence, starting with 0. "
   ]
  },
  {
   "cell_type": "markdown",
   "id": "c57b2eaa-6336-4066-b8cb-d989a4c88e06",
   "metadata": {},
   "source": [
    "## Python Sequences: Lists"
   ]
  },
  {
   "cell_type": "markdown",
   "id": "d6db6cb1-566c-4ec5-a282-b3cee064cead",
   "metadata": {},
   "source": [
    "Lists are among the most flexible and widely used data structure in Python. Lists allow you to store sets of information in one place, whether you have just a few items or millions of an item. They are essentially a collection of items in a particular order and you can put anything you want into a list. \n",
    "\n",
    "The syntax is simple: square brackets form the list\n",
    "\n",
    "Each individual item has quotations and is separated by commas."
   ]
  },
  {
   "cell_type": "markdown",
   "id": "74861bd7-cefa-466e-91b1-7a2bb13bc7ef",
   "metadata": {},
   "source": [
    "### Lists: Example\n",
    "\n",
    "Below is a list called aussi_animals with a few types of animals indigenous to Australia."
   ]
  },
  {
   "cell_type": "code",
   "execution_count": null,
   "id": "64720df8-8bac-45a7-a73e-2678915eacb6",
   "metadata": {},
   "outputs": [],
   "source": [
    "aus_animals = [ 'wombats', 'dingos', 'kangaroos', 'wallabees', 'koala']\n",
    "#How can you check to see the type of object you created?\n",
    "print(type(aus_animals))"
   ]
  },
  {
   "cell_type": "markdown",
   "id": "9a7ca54a-c717-47e8-bda1-9bdc495f902c",
   "metadata": {
    "jp-MarkdownHeadingCollapsed": true
   },
   "source": [
    "1. Create a list of the UN Security Council Members and assign it the variable un_sc"
   ]
  },
  {
   "cell_type": "code",
   "execution_count": null,
   "id": "4ceadf24-4ea6-4919-8cfd-206c0d827b66",
   "metadata": {},
   "outputs": [],
   "source": [
    "# your code here:\n",
    "un_sc = ['US', 'UK', 'France', 'China', 'Russia']\n",
    "print(un_sc)"
   ]
  },
  {
   "cell_type": "markdown",
   "id": "262507b8-4c6d-4e12-aeac-ecd12b427a11",
   "metadata": {},
   "source": [
    "2. What is the type of the variable un_sc?"
   ]
  },
  {
   "cell_type": "code",
   "execution_count": null,
   "id": "3709eac4-d752-4666-acf5-9cf0aa417356",
   "metadata": {},
   "outputs": [],
   "source": [
    "# your code here:\n",
    "type(un_sc)"
   ]
  },
  {
   "cell_type": "markdown",
   "id": "deb05db0-c7db-4de1-a660-dfef6cfbe02d",
   "metadata": {},
   "source": [
    "3. What is the length of the variable un_sc?"
   ]
  },
  {
   "cell_type": "code",
   "execution_count": null,
   "id": "dd8e2ae0-521b-481c-8b3d-0c66c16a64e6",
   "metadata": {},
   "outputs": [],
   "source": [
    "# your code here:\n",
    "len(un_sc)"
   ]
  },
  {
   "cell_type": "markdown",
   "id": "f052de4f-38dc-4988-90a9-e2cdae2a4528",
   "metadata": {},
   "source": [
    "## Another Way to Make a List. the list() method\n",
    "So, we saw that we can make a list using square brackets. We can also make a list using the list() function"
   ]
  },
  {
   "cell_type": "code",
   "execution_count": null,
   "id": "f7017268-0f9d-4b63-950a-3abe6974d7c7",
   "metadata": {},
   "outputs": [],
   "source": [
    "#4. Run this please: \n",
    "nums = list((1,2,3,4))\n",
    "print(nums)"
   ]
  },
  {
   "cell_type": "markdown",
   "id": "3a953304-c174-489d-8292-469832745b25",
   "metadata": {},
   "source": [
    "That worked for numbers! Would it work the same for strings? Sure it does!"
   ]
  },
  {
   "cell_type": "code",
   "execution_count": null,
   "id": "f9241148-3648-4aeb-8c5c-8b951a32bdbc",
   "metadata": {},
   "outputs": [],
   "source": [
    "#5. Run this please: \n",
    "students = list(('Austin', 'Deven', 'Chris', 'Oliver', 'Nancy', 'Dana', 'Shreya'))\n",
    "print(students)"
   ]
  },
  {
   "cell_type": "markdown",
   "id": "ad4b4c5d-5705-47c8-8a23-219e785db618",
   "metadata": {},
   "source": [
    "## Accessing Elements in a List\n",
    "\n",
    "As with strings, lists can be accessed by index. To access an element in a list, write the name of the list, followed by the index of an item in square brackets. \n"
   ]
  },
  {
   "cell_type": "code",
   "execution_count": null,
   "id": "37cd1d95-71a5-4f1a-9947-642fe1eed7fd",
   "metadata": {},
   "outputs": [],
   "source": [
    "#6 Example, run this please:\n",
    "aus_animals = [ 'wombats', 'dingos', 'kangaroos', 'wallabees', 'koala']\n",
    "print(aus_animals[1])"
   ]
  },
  {
   "cell_type": "markdown",
   "id": "00cd4ffc-f49c-47b6-81b7-0ea5a0e94ad7",
   "metadata": {},
   "source": [
    "Recall, Python indexing starts with 0. So it makes sense that the item in position 1 would be dingos.\n",
    "As we can see, Python returns the item without brackets of quotations. So what is the type of this object returned?"
   ]
  },
  {
   "cell_type": "code",
   "execution_count": null,
   "id": "091cbd85-4729-49e2-8c9e-945469db2b49",
   "metadata": {},
   "outputs": [],
   "source": [
    "7.  #your answer here:\n",
    "#used ChatGPT\n",
    "print(type(aus_animals[1]))\n"
   ]
  },
  {
   "cell_type": "markdown",
   "id": "888e812e-5c1c-4aef-a6ba-ad7a58b12fe3",
   "metadata": {},
   "source": [
    "Yes, a string! So we can call string methods on the item using it's index in a list"
   ]
  },
  {
   "cell_type": "code",
   "execution_count": null,
   "id": "130b4f17-d2c3-42e4-9b86-da576f245042",
   "metadata": {},
   "outputs": [],
   "source": [
    "#8 Run this example please:\n",
    "print(aus_animals[1].capitalize())\n",
    "print(aus_animals[2].title())\n",
    "      "
   ]
  },
  {
   "cell_type": "markdown",
   "id": "8bc99cb9-b380-4ef2-880b-5ec08749822b",
   "metadata": {},
   "source": [
    "Let's say we wanted to make all of the countries in our un_sc variable all caps. One way to do it is like this:\n",
    "   \n",
    "un_sc = ['china', 'france', 'russia', 'united states of america','united kingdom']\n",
    "\n",
    "# Use indexing to convert each element to uppercase\n",
    "un_sc[0] = un_sc[0].upper()\n",
    "\n",
    "un_sc[1] = un_sc[1].upper()\n",
    "\n",
    "un_sc[2] = un_sc[2].upper()\n",
    "\n",
    "un_sc[3] = un_sc[3].upper(\n",
    "un_sc[4] = un_sc[4].upper()\n",
    "\n",
    "print(un_sc)\n"
   ]
  },
  {
   "cell_type": "markdown",
   "id": "626000af-545a-457f-80fd-659150f9aaf9",
   "metadata": {},
   "source": [
    "## For loop with lists\n",
    "This is where our for loop could come in handy. A faster way is to automate the uppercase method, taking each element in the list and applying the upper method to it (iterating through the list) and then saving the new uppercase country to a new list. "
   ]
  },
  {
   "cell_type": "code",
   "execution_count": null,
   "id": "0e758e1c-4271-4394-b2a6-aa78f3167ce6",
   "metadata": {},
   "outputs": [],
   "source": [
    "#Let's iterate through the list and print the results making each element uppercase"
   ]
  },
  {
   "cell_type": "code",
   "execution_count": null,
   "id": "765d2f71-02e8-468e-9ab6-e8d3a580e8a1",
   "metadata": {},
   "outputs": [],
   "source": [
    "#9. Run this please:\n",
    "un_sc = ['china', 'france', 'russia', 'united states of america','united kingdom']\n",
    "for country in un_sc:\n",
    "    print(country.upper())"
   ]
  },
  {
   "cell_type": "code",
   "execution_count": null,
   "id": "6239fb62-87fc-456c-a0f9-ea8927fc1931",
   "metadata": {},
   "outputs": [],
   "source": [
    "10. What would happen if I printed un_sc? Have you changed this list?"
   ]
  },
  {
   "cell_type": "code",
   "execution_count": null,
   "id": "14425391-539c-47aa-b2a0-32f89e697205",
   "metadata": {},
   "outputs": [],
   "source": [
    "#Your answer here using sentences: \n",
    "#It would print the same thing since you have not run any new code to change the output."
   ]
  },
  {
   "cell_type": "markdown",
   "id": "44df7380-045a-401d-88cb-dc9d37a3751b",
   "metadata": {},
   "source": [
    "You may be wondering...can I just do it this way\n"
   ]
  },
  {
   "cell_type": "code",
   "execution_count": null,
   "id": "2a26ffb6-e563-4a7c-8d4f-f2298195327c",
   "metadata": {},
   "outputs": [],
   "source": [
    "un_sc = ['china', 'france', 'russia', 'united states of america','united kingdom']\n",
    "for country in un_sc:\n",
    "    country.upper()\n",
    "print(un_sc)"
   ]
  },
  {
   "cell_type": "markdown",
   "id": "df604858-5eab-406e-88bd-1faffe1acb17",
   "metadata": {},
   "source": [
    "11. What did the previous code produce? Why? Your answer here using sentences:"
   ]
  },
  {
   "cell_type": "code",
   "execution_count": null,
   "id": "a0e0ffef-799b-4e53-aeea-63668eadd1f3",
   "metadata": {},
   "outputs": [],
   "source": [
    "#The code didn't change it to upper, because we have not defined \"country\""
   ]
  },
  {
   "cell_type": "markdown",
   "id": "7ac4579f-8e91-4de9-881e-49e5c42c4eb6",
   "metadata": {},
   "source": [
    "How about this way (below)? Will this work?"
   ]
  },
  {
   "cell_type": "code",
   "execution_count": null,
   "id": "f0fb6702-a32d-41b8-9d54-777e40d69e4e",
   "metadata": {},
   "outputs": [],
   "source": [
    "un_sc = ['china', 'france', 'russia', 'united states of america','united kingdom']\n",
    "for country in un_sc:\n",
    "    un_sc_upper = country.upper()\n",
    "print(un_sc_upper)\n",
    "#the print statement is outside the loop \n",
    "#chatGPT"
   ]
  },
  {
   "cell_type": "markdown",
   "id": "907c046e-0277-486f-bbb0-8bde6557e4d8",
   "metadata": {},
   "source": [
    "12. What result does the previous cell return? Why didn't it make each element in un_sc uppercase? Your answer here:"
   ]
  },
  {
   "cell_type": "code",
   "execution_count": null,
   "id": "272caec7-2599-4da0-8d21-e56cace1459c",
   "metadata": {},
   "outputs": [],
   "source": [
    "#print function is outside the loop"
   ]
  },
  {
   "cell_type": "markdown",
   "id": "d62a61c5-df13-4096-8889-22e610413cf2",
   "metadata": {},
   "source": [
    "## Correct Way to Iterate and Make a New List: Make an Empty List and \"Append\" to it! "
   ]
  },
  {
   "cell_type": "code",
   "execution_count": null,
   "id": "9a399102-fabe-4e9c-a6f5-b4dbc3466862",
   "metadata": {},
   "outputs": [],
   "source": [
    "# 13, Run this please\n",
    "#first initialize and empty list\n",
    "un_sc_upper = []\n",
    "\n",
    "#then iterate through the list, then make each element an uppercase and add it (append it) to the empty list.\n",
    "\n",
    "un_sc = ['china', 'france', 'russia', 'united states of america','united kingdom']\n",
    "for country in un_sc:\n",
    "    un_sc_upper.append(country.upper())\n",
    "\n",
    "print(un_sc_upper)\n"
   ]
  },
  {
   "cell_type": "markdown",
   "id": "3aa34855-29f3-49d2-959d-0ea3f0b460f1",
   "metadata": {},
   "source": [
    "## What if I wanted to only grab certain countries that stated with 'u'? We can use a conditional and the append method"
   ]
  },
  {
   "cell_type": "markdown",
   "id": "596eb5f1-9cf7-4891-a9c2-b5b758fbb579",
   "metadata": {},
   "source": [
    "#14. Create a for loop. Using an if, else construction in your for loop, append countries to a list called 'u_countries' and append the rest of the countries to a list called 'non_u_countries'."
   ]
  },
  {
   "cell_type": "code",
   "execution_count": null,
   "id": "86fda968-8120-4646-8f26-b7087e8dbdf6",
   "metadata": {},
   "outputs": [],
   "source": [
    "#Your code here:\n",
    "#chatGPT\n",
    "un_sc = ['CHINA', 'FRANCE', 'RUSSIA', 'UNITED STATES OF AMERICA', 'UNITED KINGDOM']\n",
    "\n",
    "# Initialize empty lists for countries that start with 'U' and others\n",
    "u_countries = []\n",
    "non_u_countries = []\n",
    "\n",
    "# Loop through the list and append countries based on the starting letter\n",
    "for country in un_sc:\n",
    "    if country.startswith('U'):\n",
    "        u_countries.append(country)\n",
    "    else:\n",
    "        non_u_countries.append(country)\n",
    "\n",
    "# Display the results\n",
    "print(\"Countries that start with 'U':\", u_countries)\n",
    "print(\"Countries that do not start with 'U':\", non_u_countries)"
   ]
  },
  {
   "cell_type": "markdown",
   "id": "47176073-aedd-45f8-8ca3-a41d7260fa34",
   "metadata": {},
   "source": [
    "## Adding to a list\n",
    "We can also use append to add an element to a list. For example, let's say we wanted to add Josh to our list of students.\n"
   ]
  },
  {
   "cell_type": "code",
   "execution_count": null,
   "id": "9a5b6d4f-0651-4ba6-b3bc-25b4302129f9",
   "metadata": {},
   "outputs": [],
   "source": [
    "15. #Please run the following code:\n",
    "students = list(('Austin', 'Deven', 'Chris', 'Oliver', 'Nancy', 'Dana', 'Shreya'))\n",
    "students.append('Josh')\n",
    "print(students)"
   ]
  },
  {
   "cell_type": "markdown",
   "id": "5bdbe5cd-89af-45ad-b3a5-8b74d5dfa5d4",
   "metadata": {},
   "source": [
    "What if we wanted to add several students to our list? We use the extend method! "
   ]
  },
  {
   "cell_type": "code",
   "execution_count": null,
   "id": "8613b4af-3064-44cb-bec9-866eb44343a6",
   "metadata": {},
   "outputs": [],
   "source": [
    "#16. Will this work? Please run this code:\n",
    "#will not work\n",
    "students = list(('Austin', 'Deven', 'Chris', 'Oliver', 'Nancy', 'Dana', 'Shreya'))\n",
    "students.append('Didace', 'Jennifer')\n",
    "print(students)"
   ]
  },
  {
   "cell_type": "code",
   "execution_count": null,
   "id": "1d6458c3-de33-436b-98da-e6127fa85b55",
   "metadata": {},
   "outputs": [],
   "source": [
    "#What error did this return? How do interpret it? Your answer here:\n",
    "#The error says that it can only take one argument and not multiple"
   ]
  },
  {
   "cell_type": "code",
   "execution_count": null,
   "id": "86914d45-eceb-4176-8610-699c49a36644",
   "metadata": {},
   "outputs": [],
   "source": [
    "#17. Extend works. But we must pass multiple elements to the extend function as a list.\n",
    "#Please run this code and make sure it works.\n",
    "students = list(('Austin', 'Deven', 'Chris', 'Oliver', 'Nancy', 'Dana', 'Shreya'))\n",
    "students.extend(['Didace', 'Jennifer'])\n",
    "print(students)"
   ]
  },
  {
   "cell_type": "code",
   "execution_count": null,
   "id": "e8c3f9da-e3d1-4d94-86e9-7119f7b7e051",
   "metadata": {},
   "outputs": [],
   "source": [
    "#18. Extend can be used to add a list of elelments, a tuple(tuple...we will get to it!) of elements and even a string.\n",
    "# Please read this code and run it.\n",
    "\n",
    "#Initial list of students\n",
    "students = ['Austin', 'Chris', 'Oliver', 'Nancy']\n",
    "\n",
    "# Extending the list with another list\n",
    "new_students_list = ['Dana', 'Shreya']\n",
    "students.extend(new_students_list)\n",
    "\n",
    "# Extending the list with a tuple\n",
    "new_students_tuple = ('Anoushka', 'Aishwarya')\n",
    "students.extend(new_students_tuple)\n",
    "\n",
    "# Extending the list with a string (each character will be added as a separate element)\n",
    "new_students_string = \"Eve\"\n",
    "students.extend(new_students_string)\n",
    "\n",
    "# Final list\n",
    "print(students)\n",
    "\n"
   ]
  },
  {
   "cell_type": "markdown",
   "id": "7af48828-32c8-40f8-abd6-0d94c15b406a",
   "metadata": {},
   "source": [
    "## What's a Tuple?\n",
    "\n",
    "A tuple in Python is an immutable, ordered collection of elements, similar to a list. However, unlike lists, tuples cannot be modified after they are created, meaning you cannot add, remove, or change elements once the tuple is defined.\n",
    "\n",
    "Key Characteristics of Tuples:\n",
    "\n",
    "Ordered: The elements in a tuple are ordered, and you can access them using an index (just like in lists).\n",
    "\n",
    "Immutable: Once a tuple is created, its contents cannot be changed (i.e., no adding, removing, or changing elements). But as we saw above, a tuple can be added to a list. \n",
    "\n",
    "Can contain mixed data types: A tuple can hold elements of different types, such as integers, strings, floats, and even other tuples or lists.\n",
    "\n",
    "Indexable and iterable: You can access elements using an index and iterate over the elements using a loop.\n",
    "\n",
    "Allows duplicates: Tuples can contain duplicate elements, just like lists"
   ]
  },
  {
   "cell_type": "markdown",
   "id": "8a7b3d9c-68ce-4fe0-bd72-b1517610cd1c",
   "metadata": {},
   "source": [
    "### Creating a Tuple:\n",
    "Tuples are created by enclosing the elements inside parentheses () and separating them by commas."
   ]
  },
  {
   "cell_type": "code",
   "execution_count": null,
   "id": "0a225643-190e-4228-b20f-f42188e1c92f",
   "metadata": {},
   "outputs": [],
   "source": [
    "# Creating a tuple with mixed data types\n",
    "my_tuple = (1, 'apple', 3.14, 'banana')\n",
    "\n",
    "print(my_tuple)       # Output: (1, 'apple', 3.14, 'banana')\n",
    "print(my_tuple[1])    # Output: 'apple'\n"
   ]
  },
  {
   "cell_type": "code",
   "execution_count": null,
   "id": "09c1f7a0-563f-42df-80e7-79b017183a25",
   "metadata": {},
   "outputs": [],
   "source": [
    "## Okay back to lists: other ways to add elements.\n",
    "#Please run this code\n",
    "\n",
    "composers = []\n",
    "composers.append('Bach')\n",
    "composers.append('Joplin')\n",
    "composers.append('Debussy')\n",
    "composers.append('Isang')\n",
    "composers.append('Rachmaninoff')\n",
    "print(composers)\n"
   ]
  },
  {
   "cell_type": "code",
   "execution_count": null,
   "id": "ebce7cd4-6f86-4dba-a3b5-f9f38166f02b",
   "metadata": {},
   "outputs": [],
   "source": [
    "#What if I wanted to add a composer to the list but not at the end? Insert takes two arguments, index position, and element.\n"
   ]
  },
  {
   "cell_type": "code",
   "execution_count": null,
   "id": "72a88e42-de57-462e-9b9f-c357f3d66b7c",
   "metadata": {},
   "outputs": [],
   "source": [
    "#19. Please run this code\n",
    "\n",
    "composers.insert(2, 'Bhoi')\n",
    "print(composers)"
   ]
  },
  {
   "cell_type": "code",
   "execution_count": null,
   "id": "b41cfbb6-f9d5-4639-9fdf-5a70044247c0",
   "metadata": {},
   "outputs": [],
   "source": [
    "#20. Can you insert more than one element at a time?\n",
    "#Please insert Dikshitar in position 1 and Saz in position 3 to your composer list in position.\n",
    "# Your answer yes or no to the first question. And write code here:\n",
    "#used ChatGPT\n",
    "composers.insert(0, 'Dikshitar')\n",
    "composers.insert(2, 'Saz')\n",
    "print(composers)"
   ]
  },
  {
   "cell_type": "markdown",
   "id": "bb801ad1-574d-4560-a477-5930b3bf8d94",
   "metadata": {},
   "source": [
    "## Sort the previous list alphabetically: Sort and Sorted!\n",
    "The primary difference between the list sort() and the sorted () function is that the sort() function will modifu the list it is called on. The sorted() function will create a new list containing a sorted version of the list it is given. The sorted() function will not modify the list passed as a parameter. If you want to sort a list but still have the original unsorted version, then you would use the sorted() funciton. If maintaing the orifinal order of the lis tis unimportant, then you can call the sort () function on the list."
   ]
  },
  {
   "cell_type": "code",
   "execution_count": null,
   "id": "da55bbb8-7288-4361-a322-00183db7b66d",
   "metadata": {},
   "outputs": [],
   "source": [
    "#21. Please run this code:\n",
    "sorted_composers = sorted(composers)\n",
    "print(sorted_composers)\n",
    "print(composers)\n",
    "#note we have done nothing to alter our first list."
   ]
  },
  {
   "cell_type": "code",
   "execution_count": null,
   "id": "989b5f5f-be03-45c2-a5bd-f84557e4c95d",
   "metadata": {},
   "outputs": [],
   "source": [
    "#22. Please run this code:\n",
    "composers.sort()\n",
    "#Will permanently alter the order of your list\n",
    "print(composers)"
   ]
  },
  {
   "cell_type": "code",
   "execution_count": null,
   "id": "b11fd2b7-5dcf-470f-a8c0-ec6b8de29be2",
   "metadata": {},
   "outputs": [],
   "source": [
    "#23. Please create a new list of numbers, but do not change the original list. Please first, \n",
    "#print the numbers to confirm the code to generate them worked.\n",
    "import random\n",
    "# this line of code allows me to create a 250 long list of random numbers between 10 and 1000.\n",
    "numbers = random.sample(range(10,1000), 250)\n",
    "print(numbers)\n",
    "#Your code here:\n",
    "new_numbers = sorted(numbers)\n",
    "print(new_numbers)"
   ]
  },
  {
   "cell_type": "code",
   "execution_count": null,
   "id": "667ae8f2-2e90-430e-9305-2f3559cb0ef7",
   "metadata": {},
   "outputs": [],
   "source": [
    "#24. How long is the list?\n",
    "#The list is the same as before, 250 numbers using the len() code\n",
    "#Your code here:\n",
    "len(new_numbers)"
   ]
  },
  {
   "cell_type": "code",
   "execution_count": null,
   "id": "0190f9f7-6e46-45e7-b91d-c75369f8633f",
   "metadata": {},
   "outputs": [],
   "source": [
    "#25. Now reverse your list\n",
    "#Your code here:\n",
    "#used ChatGPT\n",
    "\n",
    "new_numbers.reverse()\n",
    "print(new_numbers)"
   ]
  },
  {
   "cell_type": "markdown",
   "id": "87fbe068-21a8-4f11-8a95-35d8223ac65e",
   "metadata": {},
   "source": [
    "## We learned to add elements, let's talk about how to get rid of them. There are three ways.\n",
    "1. del (by index)\n",
    "\n",
    "2. pop(last item)\n",
    "\n",
    "3. remove(by item name)"
   ]
  },
  {
   "cell_type": "code",
   "execution_count": null,
   "id": "1a86cb5b-b747-4690-a2e9-215350ddd711",
   "metadata": {},
   "outputs": [],
   "source": [
    "#26. Please give an example of each of these techniques.\n",
    "#Your code here:\n",
    "#used ChatGPT\n",
    "\n",
    "#del\n",
    "del new_numbers[0]\n",
    "print(new_numbers)\n",
    "\n",
    "#pop\n",
    "new_numbers.pop()\n",
    "print(new_numbers)\n",
    "\n",
    "#remove\n",
    "new_numbers.remove(964)\n",
    "print(new_numbers)"
   ]
  },
  {
   "cell_type": "markdown",
   "id": "f6583e7c-488a-4ec4-8118-2198b03614fd",
   "metadata": {},
   "source": [
    "## Accessing and Changing elements:\n",
    "\n"
   ]
  },
  {
   "cell_type": "code",
   "execution_count": null,
   "id": "28d79baf-14c2-42dc-82ad-77c94674708e",
   "metadata": {},
   "outputs": [],
   "source": [
    "#Accessing the first element in the list:\n",
    "students = ['Austin', 'Chris', 'Oliver', 'Nancy']\n",
    "first_student = students[0]\n",
    "print(first_student)"
   ]
  },
  {
   "cell_type": "code",
   "execution_count": null,
   "id": "246dcf07-3661-4831-b5e3-cc9d68625592",
   "metadata": {},
   "outputs": [],
   "source": [
    "27. students = ['Austin', 'Chris', 'Oliver', 'Nancy']\n",
    "#Please change Dana for Nancy. Before you go to ChatGPT, think about it. Nancy is in index position 3. \n",
    "#Can you just make index postion three of this variable equal to Dana, rather than Nancy?\n",
    "#used ChatGPT\n",
    "\n",
    "#Your code here:\n",
    "students[3] = 'Dana'\n",
    "print(students)"
   ]
  },
  {
   "cell_type": "markdown",
   "id": "642400aa-97bc-4c6d-84c1-b3a885b99478",
   "metadata": {},
   "source": [
    " ## Slicing lists\n",
    "You can slice lists, just like you slice strings, by index.\n"
   ]
  },
  {
   "cell_type": "code",
   "execution_count": null,
   "id": "f91a218e-24cc-478f-9d4f-004ebfd46061",
   "metadata": {},
   "outputs": [],
   "source": [
    "#28.\n",
    "composers =['Bach', 'Joplin', 'Bhoi', 'Debussy', 'Isang', 'Rachmaninoff']\n",
    "#please slice this list to get a sublist containing Bhoi, Debussy, and Isang and assign it to a variable called 'sublist'\n",
    "#Your code here:\n",
    "\n",
    "s = slice(2,5)\n",
    "print(composers[s])"
   ]
  },
  {
   "cell_type": "code",
   "execution_count": null,
   "id": "daf4f7ed-62cf-4f05-93fa-c8396c648d88",
   "metadata": {},
   "outputs": [],
   "source": [
    "#29. Please give me everything from the beginning to the fourth item using slicing\n",
    "python_students = ['Austin', 'Deven', 'Chris', 'Oliver', 'Nancy', 'Dana', 'Shreya', 'Didace', 'Jennifer']\n",
    "#your code here:\n",
    "w = slice(4)\n",
    "print(python_students[w])"
   ]
  },
  {
   "cell_type": "code",
   "execution_count": null,
   "id": "696215f5-cf95-4012-ac71-3dff02bad1ae",
   "metadata": {
    "jp-MarkdownHeadingCollapsed": true
   },
   "outputs": [],
   "source": [
    "#30.Please give me everything from the fifth item to the end:\n",
    "#used ChatGPT\n",
    "python_students = ['Austin', 'Deven', 'Chris', 'Oliver', 'Nancy', 'Dana', 'Shreya', 'Didace', 'Jennifer']\n",
    "#Your code here:\n",
    "sublist = python_students[4:]\n",
    "print(sublist)"
   ]
  },
  {
   "cell_type": "markdown",
   "id": "5bda7e5c-c113-45f7-a767-49e97d22cccc",
   "metadata": {},
   "source": [
    "31.## Hacking Problem\n",
    "The technique of trying every possible password to gain access to a password restricted website is called a brute-force attack. Loops, both for and while, make this very easy. This is part of the reason why a fairly unsophisticated hacker can still be successful.\n",
    "\n",
    "Naughty people buy lists of passwords on the dark web and then use brute-force attacks to try to gain access to places they shouldn't be wandering. They often pay for their illicit purchases in bitcoin.\n",
    "\n",
    "In order to fight wrongdoing, we must imagine the world from their perspective. Some never come back. Others are guided by strong core principles and understand right and wrong.\n",
    "\n",
    "You are a hacker and have a budget of 3,200 Cape Verde Escudo to buy user passwords. On the AlphaBay Market on the dark web each password sells for .0008 BTC . Write a script that converts Escudo (based on current exchange rate) to dollars, and then dollars to bitcoin. Then output the number of passwords that you are able to buy.\n"
   ]
  },
  {
   "cell_type": "code",
   "execution_count": 61,
   "id": "0c1af207-6e5b-4667-8ad9-84a3b0de306a",
   "metadata": {},
   "outputs": [
    {
     "name": "stdin",
     "output_type": "stream",
     "text": [
      "Enter monetary amount here in Cabo Verdean Escudos:   3200\n"
     ]
    },
    {
     "name": "stdout",
     "output_type": "stream",
     "text": [
      "<bound method Kernel.raw_input of <ipykernel.ipkernel.IPythonKernel object at 0x000001FA0DBA5A30>>\n",
      " This is 32.16 USD\n",
      " This is 0.0005334191403924013 BTC\n",
      "I'm sorry, you can't afford any passwords\n"
     ]
    }
   ],
   "source": [
    "#31a.Your code here:\n",
    "#used ChatGPT\n",
    "\n",
    "escudos = float(input(\"Enter monetary amount here in Cabo Verdean Escudos:  \"))\n",
    "print(input)\n",
    "\n",
    "converted_1 = round(escudos / (99.5), 2)\n",
    "print(f\" This is {converted_1} USD\")\n",
    "\n",
    "converted_2 = (converted_1 / 60290.3) \n",
    "print(f\" This is {converted_2} BTC\") \n",
    "\n",
    "converted_3 = round(converted_2 / 0.0008,8)\n",
    "\n",
    "if converted_3 >= 1:\n",
    "    print(f\" You can buy {converted_3} passwords\")\n",
    "else:\n",
    "    print(\"I'm sorry, you can't afford any passwords\")\n"
   ]
  },
  {
   "cell_type": "markdown",
   "id": "200f5c4f-b6d7-407b-a4f9-030473c310ba",
   "metadata": {},
   "source": [
    "Okay, you are off to a very naughty start.\n",
    "\n",
    "The vendor was generous and gave you more passwords than you could afford. Write a script that calculates how many passwords you got for free in Cape Verde Escudo.\n",
    "\n",
    "Passwords received: (please ignore italics as markdown interprets characters as commands. double click on markdown cell to access unaltered passwords)\n",
    "\n",
    "3asdad, letmein@!, qwerty, abc123, trustno1, Ilovesandy, !!@@###123, pl,mjytce!, p@s\n",
    "lf, 1q2w3e4r, letmein, iloveyou, password1, 1qaz2wsx, qazwsx, 12345, johnsp@ssw0rd, meandmymonkey, xboksrools, qwertyuiop, 77777, 888888, zaq1zaq1, 123qwe, excaliburr!, girlsrule!, @cce$$granted, iRulE!, pewdepieftw1, wtFstfUP, admin, master, sunshinesuzy, bobbyluvsdaBears!,qwertyuiop, w_uts_up, n0uger, aiden123, william123, sally123, pirsquareD, d0nutTreadonme, weedmn, MakeUSgr8, USA#1, FokiSiS, Footbahl, 2#22#1985, 11111, Dodgethis"
   ]
  },
  {
   "cell_type": "code",
   "execution_count": 73,
   "id": "c1bde4e7-52b7-475d-a830-02daeae23081",
   "metadata": {},
   "outputs": [
    {
     "name": "stdout",
     "output_type": "stream",
     "text": [
      "['3asdad', 'letmein@!', 'qwerty', 'abc123', 'trustno1', 'Ilovesandy', '!!@@###123', 'pl,mjytce!', 'p@s lf', '1q2w3e4r', 'letmein', 'iloveyou', 'password1', '1qaz2wsx', 'qazwsx', '12345', 'johnsp@ssw0rd', 'meandmymonkey', 'xboksrools', 'qwertyuiop', '77777', '888888', 'zaq1zaq1', '123qwe', 'excaliburr!', 'girlsrule!', '@cce$$granted', 'iRulE!', 'pewdepieftw1', 'wtFstfUP', 'admin', 'master', 'sunshinesuzy', 'bobbyluvsdaBears!', 'qwertyuiop', 'w_uts_up', 'n0uger', 'aiden123', 'william123', 'sally123', 'pirsquareD', 'd0nutTreadonme', 'weedmn', 'MakeUSgr8', 'USA#1', 'FokiSiS', 'Footbahl', '2#22#1985', '11111', 'Dodgethis']\n",
      "This list contains 50 free passwords.\n"
     ]
    }
   ],
   "source": [
    "#31b. Your code here:\n",
    "#used ChatGPT\n",
    "free_passwords = ['3asdad', 'letmein@!', 'qwerty', 'abc123', 'trustno1', 'Ilovesandy', '!!@@###123', 'pl,mjytce!', 'p@s lf', '1q2w3e4r', 'letmein', 'iloveyou', 'password1', '1qaz2wsx', 'qazwsx', '12345', 'johnsp@ssw0rd', 'meandmymonkey', 'xboksrools', 'qwertyuiop', '77777', '888888', 'zaq1zaq1', '123qwe', 'excaliburr!', 'girlsrule!', '@cce$$granted', 'iRulE!', 'pewdepieftw1', 'wtFstfUP', 'admin', 'master', 'sunshinesuzy', 'bobbyluvsdaBears!', 'qwertyuiop', 'w_uts_up', 'n0uger', 'aiden123', 'william123', 'sally123', 'pirsquareD', 'd0nutTreadonme', 'weedmn', 'MakeUSgr8', 'USA#1', 'FokiSiS', 'Footbahl', '2#22#1985', '11111', 'Dodgethis']\n",
    "print(free_passwords)\n",
    "count = len(free_passwords)\n",
    "print(f\"This list contains {count} free passwords.\")"
   ]
  },
  {
   "cell_type": "markdown",
   "id": "880fc409-aec8-49d5-8500-8b55d8ce034b",
   "metadata": {},
   "source": [
    "Now you have some passwords that you can use to attempt a brute-force attack on a password protected account. Write a script that demonstrates how a brute force attack might work.\n",
    "\n",
    "For the sake of this exercise, assume the user's password is: 1qaz2wsx\n",
    "\n",
    "Your script should evaluate each one of the possible passwords. Output- \"No, try again\" when you hit a wrong password, and \"You're in!\" when you get it right. When you get it right, the script should stop running. This script should be automated so that it tries each password without you needing to enter it manually."
   ]
  },
  {
   "cell_type": "code",
   "execution_count": 81,
   "id": "07158754-4656-4894-841a-5c16137ac415",
   "metadata": {},
   "outputs": [
    {
     "name": "stdout",
     "output_type": "stream",
     "text": [
      "try again\n",
      "try again\n",
      "try again\n",
      "try again\n",
      "try again\n",
      "try again\n",
      "try again\n",
      "try again\n",
      "try again\n",
      "try again\n",
      "try again\n",
      "try again\n",
      "try again\n",
      "Password 1qaz2wsx is correct\n"
     ]
    }
   ],
   "source": [
    "#31c. Your code here:\n",
    "#usedChatGPT\n",
    "free_passwords = ['3asdad', 'letmein@!', 'qwerty', 'abc123', 'trustno1', 'Ilovesandy', '!!@@###123', 'pl,mjytce!', 'p@s lf', '1q2w3e4r', 'letmein', 'iloveyou', 'password1', '1qaz2wsx', 'qazwsx', '12345', 'johnsp@ssw0rd', 'meandmymonkey', 'xboksrools', 'qwertyuiop', '77777', '888888', 'zaq1zaq1', '123qwe', 'excaliburr!', 'girlsrule!', '@cce$$granted', 'iRulE!', 'pewdepieftw1', 'wtFstfUP', 'admin', 'master', 'sunshinesuzy', 'bobbyluvsdaBears!', 'qwertyuiop', 'w_uts_up', 'n0uger', 'aiden123', 'william123', 'sally123', 'pirsquareD', 'd0nutTreadonme', 'weedmn', 'MakeUSgr8', 'USA#1', 'FokiSiS', 'Footbahl', '2#22#1985', '11111', 'Dodgethis']\n",
    "correct_password = '1qaz2wsx'\n",
    "for password in free_passwords:\n",
    "    if password == correct_password:\n",
    "        print(f\"Password {correct_password} is correct\")\n",
    "        break\n",
    "    else:\n",
    "        print(f\"try again\")"
   ]
  }
 ],
 "metadata": {
  "kernelspec": {
   "display_name": "Python 3 (ipykernel)",
   "language": "python",
   "name": "python3"
  },
  "language_info": {
   "codemirror_mode": {
    "name": "ipython",
    "version": 3
   },
   "file_extension": ".py",
   "mimetype": "text/x-python",
   "name": "python",
   "nbconvert_exporter": "python",
   "pygments_lexer": "ipython3",
   "version": "3.12.4"
  }
 },
 "nbformat": 4,
 "nbformat_minor": 5
}
