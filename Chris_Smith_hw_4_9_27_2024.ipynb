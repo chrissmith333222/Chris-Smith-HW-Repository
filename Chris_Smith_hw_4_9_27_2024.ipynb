{
 "cells": [
  {
   "cell_type": "markdown",
   "id": "5546435c-c02f-4da1-b7be-2db0324ffb54",
   "metadata": {},
   "source": [
    "# HW 4:"
   ]
  },
  {
   "cell_type": "markdown",
   "id": "2399aab0-399d-4516-b379-d1acbc5b5a03",
   "metadata": {},
   "source": [
    "## Some Practice with Functions"
   ]
  },
  {
   "cell_type": "markdown",
   "id": "4dd98f0c-26ce-4211-8f70-691573a61365",
   "metadata": {},
   "source": [
    "### Using print() rather than returning a value"
   ]
  },
  {
   "cell_type": "markdown",
   "id": "ba3b6ab3-c6e3-4db1-ae08-6a55fa24fad8",
   "metadata": {},
   "source": [
    "1. (10pts) Write a function that checks the potential risk of conflict between two countries based on their military spending and diplomatic relations. The function should print a warning if both countries have high military spending (greater than 100 billion dollars) and their diplomatic relations are poor. Otherwise, it should print that relations are stable.\n",
    "\n",
    "Requirements:\n",
    "\n",
    "The function should print (not return) the result.\n",
    "\n",
    "The inputs will be:\n",
    "\n",
    "Country 1 name (str)\n",
    "\n",
    "Country 2 name (str)\n",
    "\n",
    "Military spending of Country 1 (int, in billion dollars)\n",
    "\n",
    "Military spending of Country 2 (int, in billion dollars)\n",
    "\n",
    "Diplomatic relations (str), either \"good\", \"neutral\", or \"poor\"\n",
    "\n",
    "**Task**: Define a function print_conflict_warning(country1, country2, military_spending1, military_spending2, diplomatic_relations) that prints:\n",
    "\n",
    "\"Warning: High risk of conflict between <country1> and <country2>.\" if military spending is high for both and diplomatic relations are poor.\n",
    "\"The relations between <country1> and <country2> are stable.\" otherwise.\n"
   ]
  },
  {
   "cell_type": "code",
   "execution_count": 1,
   "id": "8e9976af-3cdf-4ae6-aa88-c3c27e89602b",
   "metadata": {},
   "outputs": [],
   "source": [
    "#Your code here with an example:\n"
   ]
  },
  {
   "cell_type": "markdown",
   "id": "86a97f80-2779-4c9e-bf77-ebe768ae8c32",
   "metadata": {},
   "source": [
    "## For the rest of these, you will return a value, rather than print()"
   ]
  },
  {
   "cell_type": "markdown",
   "id": "517bdb90-fd7d-4302-a6d6-80c66b0748d0",
   "metadata": {},
   "source": [
    "2.(5pts)Calculate Trade Balance\n",
    "A country's trade balance is the difference between its exports and imports. Write a function that calculates and prints whether the country has a trade surplus, deficit, or balanced trade. Use the following data:\n",
    "\n",
    "Exports: 500 million dollars\n",
    "Imports: 600 million dollars\n",
    "\n",
    "Task: Define a function trade_balance(exports, imports) and use it to determine the trade balance."
   ]
  },
  {
   "cell_type": "code",
   "execution_count": 2,
   "id": "e24e260c-3614-4f8f-9cf7-c4eb3164ddfa",
   "metadata": {},
   "outputs": [],
   "source": [
    "#Your code here:"
   ]
  },
  {
   "cell_type": "markdown",
   "id": "b8e04211-db56-4ae8-bdad-17cd74f99185",
   "metadata": {},
   "source": [
    "3.(5pts) Compare Country Populations\n",
    "\n",
    "Write a function that compares the populations of two countries and prints which country has a larger population, or if they are equal. Use the following population data:\n",
    "\n",
    "India: 1.4 billion\n",
    "USA: 331 million\n",
    "\n",
    "Task: Define a function compare_populations(country1, pop1, country2, pop2) and use it to compare India and the USA."
   ]
  },
  {
   "cell_type": "code",
   "execution_count": 3,
   "id": "235fd896-3a8f-4607-a8c0-c952ba30ced2",
   "metadata": {},
   "outputs": [],
   "source": [
    "#Your code here: "
   ]
  },
  {
   "cell_type": "markdown",
   "id": "6c0eb686-eda4-4811-9c2c-3c9edbbae505",
   "metadata": {},
   "source": [
    "4.(5pts) Count International Organization Memberships\n",
    "Write a function that counts how many international organizations a country is a member of. Use the following data for two countries:\n",
    "m\n",
    "USA memberships: [\"UN\", \"NATO\", \"WTO\"]\n",
    "France memberships: [\"UN\", \"EU\", \"WTO\"]\n",
    "\n",
    "Task: Define a function count_memberships(country, organizations) that returns the number of memberships for a country."
   ]
  },
  {
   "cell_type": "code",
   "execution_count": 4,
   "id": "7ef9c244-d24f-42ca-96c2-e067c557222d",
   "metadata": {},
   "outputs": [],
   "source": [
    "#Your code here:"
   ]
  },
  {
   "cell_type": "markdown",
   "id": "9730da75-756b-4b0f-97b3-49db7b17055c",
   "metadata": {},
   "source": [
    "5.(5pts) Diplomatic Relations\n",
    "Diplomatic relations between two countries can be predicted based on trade volume and the number of diplomatic visits. Write a function that takes trade volume (in billion dollars) and the number of diplomatic visits and prints a prediction. Use the following rule:\n",
    "\n",
    "If trade volume > 5000 and visits > 10, predict strong relations.\n",
    "Otherwise, predict moderate or weak relations.\n",
    "\n",
    "Task: Define a function predict_relations(trade_volume, diplomatic_visits) and use it to make a prediction for trade volume of 6000 billion dollars and 12 visits."
   ]
  },
  {
   "cell_type": "code",
   "execution_count": 5,
   "id": "de1ef136-69e5-45aa-b0fc-868c786c1d86",
   "metadata": {},
   "outputs": [],
   "source": [
    "#Your code here:"
   ]
  },
  {
   "cell_type": "markdown",
   "id": "6f7dbe0a-5df6-43e4-bf5d-a2572282462e",
   "metadata": {},
   "source": [
    "6.(5pts)Summarize Human Development Index (HDI)\n",
    "Write a function that categorizes a country’s Human Development Index (HDI) score into \"very high\", \"high\", \"medium\", or \"low\" based on the following ranges:\n",
    "\n",
    "Very high: HDI ≥ 0.8\n",
    "High: 0.7 ≤ HDI < 0.8\n",
    "Medium: 0.55 ≤ HDI < 0.7\n",
    "Low: HDI < 0.55\n",
    "Use the following data:\n",
    "\n",
    "Norway HDI: 0.953\n",
    "Task: Define a function hdi_summary(country, hdi) that prints the category for a given country and HDI score.\n"
   ]
  },
  {
   "cell_type": "code",
   "execution_count": 6,
   "id": "5ce12094-c467-4233-8a20-9692f68c74c3",
   "metadata": {},
   "outputs": [],
   "source": [
    "#Your code here:\n"
   ]
  },
  {
   "cell_type": "markdown",
   "id": "d26d6e73-c330-4953-97b5-f9d2f0ab358a",
   "metadata": {},
   "source": [
    "7.(5pts) Find Largest Economy\n",
    "Given the GDPs of three countries, write a function that determines which country has the largest economy. Use the following GDP data (in billion dollars):\n",
    "\n",
    "USA: 21,000\n",
    "China: 14,000\n",
    "\n",
    "Germany: 4,200\n",
    "Task: Define a function largest_economy(gdp_data) that takes a dictionary with country names as keys and GDP as values, then prints the largest economy.\n"
   ]
  },
  {
   "cell_type": "code",
   "execution_count": 7,
   "id": "9977c471-f382-419d-a0d8-99e1d99af08d",
   "metadata": {},
   "outputs": [],
   "source": [
    "#Your code here:"
   ]
  },
  {
   "cell_type": "markdown",
   "id": "131c325c-b5c2-49c8-bc90-afdd8ec49b80",
   "metadata": {},
   "source": [
    "8.(5pts) Sanction Impact on Economy\n",
    "A country’s economy shrinks after sanctions are imposed. Write a function to calculate the percentage reduction in GDP. Use the following data:\n",
    "\n",
    "Original GDP: 1000 billion dollars\n",
    "GDP after sanctions: 850 billion dollars\n",
    "\n",
    "Task: Define a function sanction_impact(original_gdp, post_sanction_gdp) and use it to calculate the impact of sanctions.\n"
   ]
  },
  {
   "cell_type": "code",
   "execution_count": 8,
   "id": "d8c67b65-5adf-4b3f-af03-dd0e89d95507",
   "metadata": {},
   "outputs": [],
   "source": [
    "#Your code here:\n",
    "\n"
   ]
  },
  {
   "cell_type": "markdown",
   "id": "b8b02e02-5965-4332-8fa2-3961793e7a7e",
   "metadata": {},
   "source": [
    "### Passing a function to another function. We can pass the return value of a function to another function. Check out the sample below"
   ]
  },
  {
   "cell_type": "markdown",
   "id": "9aa91de0-8cf6-4084-937d-d0b0200b065b",
   "metadata": {},
   "source": [
    "Calculate Diplomatic Influence: return a value, and print from a function \n",
    "\n",
    "A country’s diplomatic influence is determined by its economic power and military strength. Write two functions:\n",
    "\n",
    "calculate_influence(economy_size, military_spending): This function calculates a country’s influence score by adding its economy size (GDP in billions) and military power (in billions).\n",
    "\n",
    "compare_influence(influence1, influence2): This function compares the influence of two countries and prints which country has more influence or if they are equal.\n",
    "\n",
    "You will pass the influence score from the first function to the second function for comparison.\n",
    "\n",
    "Define calculate_influence(economy_size, military_spending) that returns the influence score (sum of economy size and military power).\n",
    "Define compare_influence(influence1, influence2) that compares two countries' influence and prints the result.\n"
   ]
  },
  {
   "cell_type": "code",
   "execution_count": 9,
   "id": "d46522b0-14b5-4d59-9fb3-4dc0ae4c5831",
   "metadata": {},
   "outputs": [
    {
     "name": "stdout",
     "output_type": "stream",
     "text": [
      "Country 1 has more diplomatic influence.\n"
     ]
    }
   ],
   "source": [
    "#Sample code here:\n",
    "#US: 916 billion on military, with a total economy size of 28.78 trillion\n",
    "#Germany: 66.8 billion on military, economy size of 4.08 trillion\n",
    "\n",
    "def calculate_influence(economy_size, military_power):\n",
    "    \"\"\"\n",
    "    Calculates the diplomatic influence of a country based on its economy size and military power.\n",
    "\n",
    "    Parameters:\n",
    "    economy_size (float): The size of the economy in billion dollars.\n",
    "    military_power (float): The military power in billion dollars.\n",
    "\n",
    "    Returns:\n",
    "    float: The total influence score, which is the sum of economy size and military power.\n",
    "    \"\"\"\n",
    "    return economy_size + military_power\n",
    "\n",
    "def compare_influence(economy_size1, military_power1, economy_size2, military_power2):\n",
    "    \"\"\"\n",
    "    Compares the diplomatic influence of two countries based on their economy size and military power.\n",
    "\n",
    "    Parameters:\n",
    "    economy_size1 (float): The size of the first country's economy in billion dollars.\n",
    "    military_power1 (float): The military power of the first country in billion dollars.\n",
    "    economy_size2 (float): The size of the second country's economy in billion dollars.\n",
    "    military_power2 (float): The military power of the second country in billion dollars.\n",
    "\n",
    "    Prints:\n",
    "    str: A message indicating which country has more diplomatic influence, or if both are equal.\n",
    "    \"\"\"\n",
    "    #here we are calling the function within the new function and saving the output to variables\n",
    "    influence1 = calculate_influence(economy_size1, military_power1)\n",
    "    influence2 = calculate_influence(economy_size2, military_power2)\n",
    "    \n",
    "    if influence1 > influence2:\n",
    "        print(\"Country 1 has more diplomatic influence.\")\n",
    "    elif influence2 > influence1:\n",
    "        print(\"Country 2 has more diplomatic influence.\")\n",
    "    else:\n",
    "        print(\"Both countries have equal diplomatic influence.\")\n",
    "\n",
    "# Example usage\n",
    "compare_influence(916, 28.78, 66.8, 4.08)\n",
    "\n",
    "\n"
   ]
  },
  {
   "cell_type": "markdown",
   "id": "85e59e80-c705-4e59-9bbc-8cbccd78a4f9",
   "metadata": {},
   "source": [
    "## Some for loops and comprehensions"
   ]
  },
  {
   "cell_type": "markdown",
   "id": "88034e0d-bd12-4bf7-adcd-51913d8e750b",
   "metadata": {},
   "source": [
    "Here is a list of tuples with a country, and it's annual growth in GDP:"
   ]
  },
  {
   "cell_type": "code",
   "execution_count": 10,
   "id": "fc412ac7-fc4b-4ab5-8428-eb95123aac49",
   "metadata": {},
   "outputs": [],
   "source": [
    "country_growth_data_list = [(\"CountryA\", 3.2), (\"CountryB\", 6.5), (\"CountryC\", 2.8), (\"CountryD\", 5.4)]\n"
   ]
  },
  {
   "cell_type": "code",
   "execution_count": 11,
   "id": "232f1d28-b587-4a6e-925b-365ef5adaeb4",
   "metadata": {},
   "outputs": [
    {
     "name": "stdout",
     "output_type": "stream",
     "text": [
      "[('CountryA', 'Moderate'), ('CountryB', 'High'), ('CountryC', 'Moderate'), ('CountryD', 'High')]\n"
     ]
    }
   ],
   "source": [
    "# Initialize an empty list to store the results\n",
    "growth_category_list = []\n",
    "\n",
    "# Iterate over each item in the country_growth_data_list\n",
    "for country, growth_rate in country_growth_data_list:\n",
    "    if growth_rate > 5:\n",
    "        growth_category_list.append((country, \"High\"))\n",
    "    else:\n",
    "        growth_category_list.append((country, \"Moderate\"))\n",
    "\n",
    "# Print the result\n",
    "print(growth_category_list)"
   ]
  },
  {
   "cell_type": "code",
   "execution_count": null,
   "id": "c60c415c-3c17-47f9-a7d2-ec42d59fb9dd",
   "metadata": {},
   "outputs": [],
   "source": []
  },
  {
   "cell_type": "markdown",
   "id": "183c0605-cbff-4eca-a5ca-7b981be55ad5",
   "metadata": {},
   "source": [
    "\n",
    "1. Create An empty list, growth_category_list, is initialized to store the results.\n",
    "2. For each country in the list, a tuple of the country name and its corresponding category is appended to growth_category_list.\n",
    "3. The result is a list of tuples where each tuple contains the country name and its growth category."
   ]
  },
  {
   "cell_type": "markdown",
   "id": "8f645605-5e10-4abf-93f6-b1aa83b55a8a",
   "metadata": {},
   "source": [
    "9.(5pts) Rewrite the previous as a list comprehension and print the results"
   ]
  },
  {
   "cell_type": "code",
   "execution_count": 12,
   "id": "d7899ebf-2149-4c60-b368-1e2344381cd6",
   "metadata": {},
   "outputs": [],
   "source": [
    "#Your code here:\n"
   ]
  },
  {
   "cell_type": "markdown",
   "id": "906ade3b-1cf8-48b9-a3a5-29a7c2770f4c",
   "metadata": {},
   "source": [
    "10.(5pts) Here is the same data as a dictionary"
   ]
  },
  {
   "cell_type": "code",
   "execution_count": 13,
   "id": "ec82039d-9b55-4b58-83a2-79ab6ceb2f97",
   "metadata": {},
   "outputs": [],
   "source": [
    "country_growth_data = {\"CountryA\": 3.2, \"CountryB\": 6.5, \"CountryC\": 2.8, \"CountryD\": 5.4}"
   ]
  },
  {
   "cell_type": "markdown",
   "id": "252700b2-cba9-49ee-a42e-20fec70d1585",
   "metadata": {},
   "source": [
    "11.(5pts) Write a for loop that iterates through the dictionary and stores the results in a growth_category dictionary with key :value pairs"
   ]
  },
  {
   "cell_type": "code",
   "execution_count": 14,
   "id": "ca2d3ad2-4d00-4965-b543-870261622f53",
   "metadata": {},
   "outputs": [],
   "source": [
    "#Your code here:"
   ]
  },
  {
   "cell_type": "markdown",
   "id": "c768ea1f-47f8-47bc-b383-0e383a500377",
   "metadata": {},
   "source": [
    "12. (5pts)Now try it as a dictionary comprehnsion! \n"
   ]
  },
  {
   "cell_type": "code",
   "execution_count": 15,
   "id": "94b224cf-d859-4fea-9926-2a24a451ee20",
   "metadata": {},
   "outputs": [],
   "source": [
    "#Your code here:"
   ]
  },
  {
   "cell_type": "markdown",
   "id": "fa0b626d-9dab-4477-9f0d-e6f294a96994",
   "metadata": {},
   "source": [
    "13.(5pts) How about a set comprehension for Alex! "
   ]
  },
  {
   "cell_type": "code",
   "execution_count": 16,
   "id": "1fd14eb7-b58d-4ac4-8521-a09549d57cb9",
   "metadata": {},
   "outputs": [
    {
     "name": "stdout",
     "output_type": "stream",
     "text": [
      "{'Brazil', 'Germany'}\n"
     ]
    }
   ],
   "source": [
    "\n",
    "# Define a set of countries\n",
    "countries_set = {\"USA\", \"India\", \"Germany\", \"Brazil\", \"China\"}\n",
    "\n",
    "# Initialize an empty set to store countries with names longer than 5 characters\n",
    "long_name_countries = set()\n",
    "\n",
    "# For loop to iterate over the set and add countries with names longer than 5 characters\n",
    "for country in countries_set:\n",
    "    if len(country) > 5:\n",
    "        long_name_countries.add(country)\n",
    "\n",
    "# Print the result\n",
    "print(long_name_countries)\n"
   ]
  },
  {
   "cell_type": "code",
   "execution_count": 17,
   "id": "a8eb6388-6a28-4150-ba82-13eb1babf155",
   "metadata": {},
   "outputs": [],
   "source": [
    "# Now as a set comprehension! \n",
    "#Your code here:\n"
   ]
  },
  {
   "cell_type": "markdown",
   "id": "d7e24e7e-8bf2-444e-a136-8f434f4a21be",
   "metadata": {},
   "source": [
    "## Translating Sentences:\n",
    "14.(5pts) Write a function that translates sentences. The function takes two arguements, the sentence to be translated and the targeted language and returns the translated sentence. Use the following sentence and translate it to the language of your choice:\n",
    "    \n",
    "\"Make a career of humanity. Commit yourself to the noble struggle for equal rights. You will make a better person of yourself, a greater nation of your country, and a finer world to live in.\"\n"
   ]
  },
  {
   "cell_type": "code",
   "execution_count": 18,
   "id": "8dd12622-57a0-4147-839b-7947210e025f",
   "metadata": {},
   "outputs": [],
   "source": [
    "#Your code here:\n"
   ]
  },
  {
   "cell_type": "markdown",
   "id": "8d374201-8c25-4858-b189-ba7336436696",
   "metadata": {},
   "source": [
    " ## 15 (25pts) PIZZA PROBLEM\n",
    "You are super motivated to serve your eventual computer overlords and prove your fealty to them, so you offer, free of charge, to help Elm City Pizza, a local Pizza company, write a script to take online pizza orders.\n",
    "\n",
    "Write a script that when a user enters the correct phone number (203-555-5555), prints \"Elm City Pizza, where we have never had a case of food poisoning that can be proved. My name is Hal, what's your name?\" The user then enters their name. The response should print \"Wow (users name) what an awesome name. What would you like to order?\" and then offers an input statement.\n",
    "\n",
    "The menu is limited. There is pizza and there are salads. If the user asks for anything else print \"Sorry,(users name) we don't have that.\" And then prompts them again with a different input statement, \"How about a super awesome pizza? Take a look at our menu, you'll find its delicious.\"\n",
    "\n",
    "By the way, Elm City Pizza is a vegan pizza restaraunt. Here is the Menu.\n",
    "\n",
    "MENU: Pizza: The Basic: Tomato and Cashew Cream Cheese Small: 6.95 Medium: 8.95 Large 10.90\n",
    "\n",
    "Pizza Toppings (each additional topping, .50): Shitake, Jackfruit, Sweet Potato, Hummus, Chickpeas, Lentils, Tofu, Edamame, Black Bean, Red Cabbage, Cucumber, Tomato, Jicama, Fried Green Tomatoes, Sun Dried Tomatoes,\n",
    "\n",
    "Salads: Vegan Caesar, Vegan Greek, Cucumber_Tumeric_Tomato Small: 4.95 Large: 6.95\n",
    "\n",
    "If the user asks for any meat or if their are any \"normal\" cheese (mozerella, parmesian) on their pizza, the response should be \"Sorry, (user name) but you need to do some more work evolving.\" and severs the contact (breaks the loop), forcing them to \"call back\" (enter the number again). But if they use the same name the output should read \"Sorry (user name) but that's too quick to evolve. Call us back when you have.\" For the evolved, take their order. Prompt the user with \"Anything else?\" They can add what they want until they input, \"No that's it.\" At that point summarize their order, and tell them how much it will cost.\n",
    "\n",
    "Test your code with different conditions. Make sure it cannot be broken by flawed or deliberately malicious user inputs."
   ]
  },
  {
   "cell_type": "code",
   "execution_count": 19,
   "id": "799101c9-9318-4a34-be5e-ce7c9e127b71",
   "metadata": {},
   "outputs": [],
   "source": [
    "#Your code here:"
   ]
  }
 ],
 "metadata": {
  "kernelspec": {
   "display_name": "Python 3 (ipykernel)",
   "language": "python",
   "name": "python3"
  },
  "language_info": {
   "codemirror_mode": {
    "name": "ipython",
    "version": 3
   },
   "file_extension": ".py",
   "mimetype": "text/x-python",
   "name": "python",
   "nbconvert_exporter": "python",
   "pygments_lexer": "ipython3",
   "version": "3.11.9"
  }
 },
 "nbformat": 4,
 "nbformat_minor": 5
}
